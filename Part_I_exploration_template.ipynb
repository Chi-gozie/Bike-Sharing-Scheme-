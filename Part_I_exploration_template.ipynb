{
 "cells": [
  {
   "cell_type": "markdown",
   "metadata": {},
   "source": [
    "## Bike sharing a feasible scheme or not?\n",
    "## by (Chigozie Chukwu)\n",
    "\n",
    "## Introduction\n",
    " This data set includes information about individual rides made in a bike-sharing system covering the greater San Francisco Bay area. it has 16 columns including duration_sec; this is the time interval each user rides the bike from one point to another, start_time, end_time, start_station_id, start_station_name, start_station_latitude, start_station_longitude, end_station_id, end_station_name, end_station_latitude, end_station_longitude, bike_id; this is the identity number of each bike, user_type; shows whether a particular user is a subscriber or customer to the bike sharing scheme, member_birth_year, member_gender, bike_share_for_all_trip; indicates if users rides bike all the all distance being covered. This data set has about 183412\n",
    " entries.\n",
    "\n",
    "\n",
    "\n",
    "## Preliminary Wrangling\n"
   ]
  },
  {
   "cell_type": "code",
   "execution_count": 1,
   "metadata": {},
   "outputs": [],
   "source": [
    "# I imported all python packages needed\n",
    "import numpy as np\n",
    "import pandas as pd\n",
    "import matplotlib.pyplot as plt\n",
    "import seaborn as sb\n",
    "\n",
    "%matplotlib inline"
   ]
  },
  {
   "cell_type": "markdown",
   "metadata": {},
   "source": [
    "I Loaded my dataset using the .head() method\n"
   ]
  },
  {
   "cell_type": "code",
   "execution_count": 2,
   "metadata": {},
   "outputs": [
    {
     "data": {
      "text/html": [
       "<div>\n",
       "<style scoped>\n",
       "    .dataframe tbody tr th:only-of-type {\n",
       "        vertical-align: middle;\n",
       "    }\n",
       "\n",
       "    .dataframe tbody tr th {\n",
       "        vertical-align: top;\n",
       "    }\n",
       "\n",
       "    .dataframe thead th {\n",
       "        text-align: right;\n",
       "    }\n",
       "</style>\n",
       "<table border=\"1\" class=\"dataframe\">\n",
       "  <thead>\n",
       "    <tr style=\"text-align: right;\">\n",
       "      <th></th>\n",
       "      <th>duration_sec</th>\n",
       "      <th>start_time</th>\n",
       "      <th>end_time</th>\n",
       "      <th>start_station_id</th>\n",
       "      <th>start_station_name</th>\n",
       "      <th>start_station_latitude</th>\n",
       "      <th>start_station_longitude</th>\n",
       "      <th>end_station_id</th>\n",
       "      <th>end_station_name</th>\n",
       "      <th>end_station_latitude</th>\n",
       "      <th>end_station_longitude</th>\n",
       "      <th>bike_id</th>\n",
       "      <th>user_type</th>\n",
       "      <th>member_birth_year</th>\n",
       "      <th>member_gender</th>\n",
       "      <th>bike_share_for_all_trip</th>\n",
       "    </tr>\n",
       "  </thead>\n",
       "  <tbody>\n",
       "    <tr>\n",
       "      <th>0</th>\n",
       "      <td>52185</td>\n",
       "      <td>2019-02-28 17:32:10.1450</td>\n",
       "      <td>2019-03-01 08:01:55.9750</td>\n",
       "      <td>21.0</td>\n",
       "      <td>Montgomery St BART Station (Market St at 2nd St)</td>\n",
       "      <td>37.789625</td>\n",
       "      <td>-122.400811</td>\n",
       "      <td>13.0</td>\n",
       "      <td>Commercial St at Montgomery St</td>\n",
       "      <td>37.794231</td>\n",
       "      <td>-122.402923</td>\n",
       "      <td>4902</td>\n",
       "      <td>Customer</td>\n",
       "      <td>1984.0</td>\n",
       "      <td>Male</td>\n",
       "      <td>No</td>\n",
       "    </tr>\n",
       "    <tr>\n",
       "      <th>1</th>\n",
       "      <td>42521</td>\n",
       "      <td>2019-02-28 18:53:21.7890</td>\n",
       "      <td>2019-03-01 06:42:03.0560</td>\n",
       "      <td>23.0</td>\n",
       "      <td>The Embarcadero at Steuart St</td>\n",
       "      <td>37.791464</td>\n",
       "      <td>-122.391034</td>\n",
       "      <td>81.0</td>\n",
       "      <td>Berry St at 4th St</td>\n",
       "      <td>37.775880</td>\n",
       "      <td>-122.393170</td>\n",
       "      <td>2535</td>\n",
       "      <td>Customer</td>\n",
       "      <td>NaN</td>\n",
       "      <td>NaN</td>\n",
       "      <td>No</td>\n",
       "    </tr>\n",
       "    <tr>\n",
       "      <th>2</th>\n",
       "      <td>61854</td>\n",
       "      <td>2019-02-28 12:13:13.2180</td>\n",
       "      <td>2019-03-01 05:24:08.1460</td>\n",
       "      <td>86.0</td>\n",
       "      <td>Market St at Dolores St</td>\n",
       "      <td>37.769305</td>\n",
       "      <td>-122.426826</td>\n",
       "      <td>3.0</td>\n",
       "      <td>Powell St BART Station (Market St at 4th St)</td>\n",
       "      <td>37.786375</td>\n",
       "      <td>-122.404904</td>\n",
       "      <td>5905</td>\n",
       "      <td>Customer</td>\n",
       "      <td>1972.0</td>\n",
       "      <td>Male</td>\n",
       "      <td>No</td>\n",
       "    </tr>\n",
       "    <tr>\n",
       "      <th>3</th>\n",
       "      <td>36490</td>\n",
       "      <td>2019-02-28 17:54:26.0100</td>\n",
       "      <td>2019-03-01 04:02:36.8420</td>\n",
       "      <td>375.0</td>\n",
       "      <td>Grove St at Masonic Ave</td>\n",
       "      <td>37.774836</td>\n",
       "      <td>-122.446546</td>\n",
       "      <td>70.0</td>\n",
       "      <td>Central Ave at Fell St</td>\n",
       "      <td>37.773311</td>\n",
       "      <td>-122.444293</td>\n",
       "      <td>6638</td>\n",
       "      <td>Subscriber</td>\n",
       "      <td>1989.0</td>\n",
       "      <td>Other</td>\n",
       "      <td>No</td>\n",
       "    </tr>\n",
       "    <tr>\n",
       "      <th>4</th>\n",
       "      <td>1585</td>\n",
       "      <td>2019-02-28 23:54:18.5490</td>\n",
       "      <td>2019-03-01 00:20:44.0740</td>\n",
       "      <td>7.0</td>\n",
       "      <td>Frank H Ogawa Plaza</td>\n",
       "      <td>37.804562</td>\n",
       "      <td>-122.271738</td>\n",
       "      <td>222.0</td>\n",
       "      <td>10th Ave at E 15th St</td>\n",
       "      <td>37.792714</td>\n",
       "      <td>-122.248780</td>\n",
       "      <td>4898</td>\n",
       "      <td>Subscriber</td>\n",
       "      <td>1974.0</td>\n",
       "      <td>Male</td>\n",
       "      <td>Yes</td>\n",
       "    </tr>\n",
       "  </tbody>\n",
       "</table>\n",
       "</div>"
      ],
      "text/plain": [
       "   duration_sec                start_time                  end_time  \\\n",
       "0         52185  2019-02-28 17:32:10.1450  2019-03-01 08:01:55.9750   \n",
       "1         42521  2019-02-28 18:53:21.7890  2019-03-01 06:42:03.0560   \n",
       "2         61854  2019-02-28 12:13:13.2180  2019-03-01 05:24:08.1460   \n",
       "3         36490  2019-02-28 17:54:26.0100  2019-03-01 04:02:36.8420   \n",
       "4          1585  2019-02-28 23:54:18.5490  2019-03-01 00:20:44.0740   \n",
       "\n",
       "   start_station_id                                start_station_name  \\\n",
       "0              21.0  Montgomery St BART Station (Market St at 2nd St)   \n",
       "1              23.0                     The Embarcadero at Steuart St   \n",
       "2              86.0                           Market St at Dolores St   \n",
       "3             375.0                           Grove St at Masonic Ave   \n",
       "4               7.0                               Frank H Ogawa Plaza   \n",
       "\n",
       "   start_station_latitude  start_station_longitude  end_station_id  \\\n",
       "0               37.789625              -122.400811            13.0   \n",
       "1               37.791464              -122.391034            81.0   \n",
       "2               37.769305              -122.426826             3.0   \n",
       "3               37.774836              -122.446546            70.0   \n",
       "4               37.804562              -122.271738           222.0   \n",
       "\n",
       "                               end_station_name  end_station_latitude  \\\n",
       "0                Commercial St at Montgomery St             37.794231   \n",
       "1                            Berry St at 4th St             37.775880   \n",
       "2  Powell St BART Station (Market St at 4th St)             37.786375   \n",
       "3                        Central Ave at Fell St             37.773311   \n",
       "4                         10th Ave at E 15th St             37.792714   \n",
       "\n",
       "   end_station_longitude  bike_id   user_type  member_birth_year  \\\n",
       "0            -122.402923     4902    Customer             1984.0   \n",
       "1            -122.393170     2535    Customer                NaN   \n",
       "2            -122.404904     5905    Customer             1972.0   \n",
       "3            -122.444293     6638  Subscriber             1989.0   \n",
       "4            -122.248780     4898  Subscriber             1974.0   \n",
       "\n",
       "  member_gender bike_share_for_all_trip  \n",
       "0          Male                      No  \n",
       "1           NaN                      No  \n",
       "2          Male                      No  \n",
       "3         Other                      No  \n",
       "4          Male                     Yes  "
      ]
     },
     "execution_count": 2,
     "metadata": {},
     "output_type": "execute_result"
    }
   ],
   "source": [
    "bikeshare = pd.read_csv('bike_sharing.csv')\n",
    "bikeshare.head()"
   ]
  },
  {
   "cell_type": "markdown",
   "metadata": {},
   "source": [
    "I used the .info() to get the general properties of my data set"
   ]
  },
  {
   "cell_type": "code",
   "execution_count": 3,
   "metadata": {},
   "outputs": [
    {
     "name": "stdout",
     "output_type": "stream",
     "text": [
      "<class 'pandas.core.frame.DataFrame'>\n",
      "RangeIndex: 183412 entries, 0 to 183411\n",
      "Data columns (total 16 columns):\n",
      "duration_sec               183412 non-null int64\n",
      "start_time                 183412 non-null object\n",
      "end_time                   183412 non-null object\n",
      "start_station_id           183215 non-null float64\n",
      "start_station_name         183215 non-null object\n",
      "start_station_latitude     183412 non-null float64\n",
      "start_station_longitude    183412 non-null float64\n",
      "end_station_id             183215 non-null float64\n",
      "end_station_name           183215 non-null object\n",
      "end_station_latitude       183412 non-null float64\n",
      "end_station_longitude      183412 non-null float64\n",
      "bike_id                    183412 non-null int64\n",
      "user_type                  183412 non-null object\n",
      "member_birth_year          175147 non-null float64\n",
      "member_gender              175147 non-null object\n",
      "bike_share_for_all_trip    183412 non-null object\n",
      "dtypes: float64(7), int64(2), object(7)\n",
      "memory usage: 22.4+ MB\n"
     ]
    }
   ],
   "source": [
    "bikeshare.info()"
   ]
  },
  {
   "cell_type": "markdown",
   "metadata": {},
   "source": [
    "I used .describe() to get the mean, mode, standard deviation, etc."
   ]
  },
  {
   "cell_type": "code",
   "execution_count": 4,
   "metadata": {},
   "outputs": [
    {
     "data": {
      "text/html": [
       "<div>\n",
       "<style scoped>\n",
       "    .dataframe tbody tr th:only-of-type {\n",
       "        vertical-align: middle;\n",
       "    }\n",
       "\n",
       "    .dataframe tbody tr th {\n",
       "        vertical-align: top;\n",
       "    }\n",
       "\n",
       "    .dataframe thead th {\n",
       "        text-align: right;\n",
       "    }\n",
       "</style>\n",
       "<table border=\"1\" class=\"dataframe\">\n",
       "  <thead>\n",
       "    <tr style=\"text-align: right;\">\n",
       "      <th></th>\n",
       "      <th>duration_sec</th>\n",
       "      <th>start_station_id</th>\n",
       "      <th>start_station_latitude</th>\n",
       "      <th>start_station_longitude</th>\n",
       "      <th>end_station_id</th>\n",
       "      <th>end_station_latitude</th>\n",
       "      <th>end_station_longitude</th>\n",
       "      <th>bike_id</th>\n",
       "      <th>member_birth_year</th>\n",
       "    </tr>\n",
       "  </thead>\n",
       "  <tbody>\n",
       "    <tr>\n",
       "      <th>count</th>\n",
       "      <td>183412.000000</td>\n",
       "      <td>183215.000000</td>\n",
       "      <td>183412.000000</td>\n",
       "      <td>183412.000000</td>\n",
       "      <td>183215.000000</td>\n",
       "      <td>183412.000000</td>\n",
       "      <td>183412.000000</td>\n",
       "      <td>183412.000000</td>\n",
       "      <td>175147.000000</td>\n",
       "    </tr>\n",
       "    <tr>\n",
       "      <th>mean</th>\n",
       "      <td>726.078435</td>\n",
       "      <td>138.590427</td>\n",
       "      <td>37.771223</td>\n",
       "      <td>-122.352664</td>\n",
       "      <td>136.249123</td>\n",
       "      <td>37.771427</td>\n",
       "      <td>-122.352250</td>\n",
       "      <td>4472.906375</td>\n",
       "      <td>1984.806437</td>\n",
       "    </tr>\n",
       "    <tr>\n",
       "      <th>std</th>\n",
       "      <td>1794.389780</td>\n",
       "      <td>111.778864</td>\n",
       "      <td>0.099581</td>\n",
       "      <td>0.117097</td>\n",
       "      <td>111.515131</td>\n",
       "      <td>0.099490</td>\n",
       "      <td>0.116673</td>\n",
       "      <td>1664.383394</td>\n",
       "      <td>10.116689</td>\n",
       "    </tr>\n",
       "    <tr>\n",
       "      <th>min</th>\n",
       "      <td>61.000000</td>\n",
       "      <td>3.000000</td>\n",
       "      <td>37.317298</td>\n",
       "      <td>-122.453704</td>\n",
       "      <td>3.000000</td>\n",
       "      <td>37.317298</td>\n",
       "      <td>-122.453704</td>\n",
       "      <td>11.000000</td>\n",
       "      <td>1878.000000</td>\n",
       "    </tr>\n",
       "    <tr>\n",
       "      <th>25%</th>\n",
       "      <td>325.000000</td>\n",
       "      <td>47.000000</td>\n",
       "      <td>37.770083</td>\n",
       "      <td>-122.412408</td>\n",
       "      <td>44.000000</td>\n",
       "      <td>37.770407</td>\n",
       "      <td>-122.411726</td>\n",
       "      <td>3777.000000</td>\n",
       "      <td>1980.000000</td>\n",
       "    </tr>\n",
       "    <tr>\n",
       "      <th>50%</th>\n",
       "      <td>514.000000</td>\n",
       "      <td>104.000000</td>\n",
       "      <td>37.780760</td>\n",
       "      <td>-122.398285</td>\n",
       "      <td>100.000000</td>\n",
       "      <td>37.781010</td>\n",
       "      <td>-122.398279</td>\n",
       "      <td>4958.000000</td>\n",
       "      <td>1987.000000</td>\n",
       "    </tr>\n",
       "    <tr>\n",
       "      <th>75%</th>\n",
       "      <td>796.000000</td>\n",
       "      <td>239.000000</td>\n",
       "      <td>37.797280</td>\n",
       "      <td>-122.286533</td>\n",
       "      <td>235.000000</td>\n",
       "      <td>37.797320</td>\n",
       "      <td>-122.288045</td>\n",
       "      <td>5502.000000</td>\n",
       "      <td>1992.000000</td>\n",
       "    </tr>\n",
       "    <tr>\n",
       "      <th>max</th>\n",
       "      <td>85444.000000</td>\n",
       "      <td>398.000000</td>\n",
       "      <td>37.880222</td>\n",
       "      <td>-121.874119</td>\n",
       "      <td>398.000000</td>\n",
       "      <td>37.880222</td>\n",
       "      <td>-121.874119</td>\n",
       "      <td>6645.000000</td>\n",
       "      <td>2001.000000</td>\n",
       "    </tr>\n",
       "  </tbody>\n",
       "</table>\n",
       "</div>"
      ],
      "text/plain": [
       "        duration_sec  start_station_id  start_station_latitude  \\\n",
       "count  183412.000000     183215.000000           183412.000000   \n",
       "mean      726.078435        138.590427               37.771223   \n",
       "std      1794.389780        111.778864                0.099581   \n",
       "min        61.000000          3.000000               37.317298   \n",
       "25%       325.000000         47.000000               37.770083   \n",
       "50%       514.000000        104.000000               37.780760   \n",
       "75%       796.000000        239.000000               37.797280   \n",
       "max     85444.000000        398.000000               37.880222   \n",
       "\n",
       "       start_station_longitude  end_station_id  end_station_latitude  \\\n",
       "count            183412.000000   183215.000000         183412.000000   \n",
       "mean               -122.352664      136.249123             37.771427   \n",
       "std                   0.117097      111.515131              0.099490   \n",
       "min                -122.453704        3.000000             37.317298   \n",
       "25%                -122.412408       44.000000             37.770407   \n",
       "50%                -122.398285      100.000000             37.781010   \n",
       "75%                -122.286533      235.000000             37.797320   \n",
       "max                -121.874119      398.000000             37.880222   \n",
       "\n",
       "       end_station_longitude        bike_id  member_birth_year  \n",
       "count          183412.000000  183412.000000      175147.000000  \n",
       "mean             -122.352250    4472.906375        1984.806437  \n",
       "std                 0.116673    1664.383394          10.116689  \n",
       "min              -122.453704      11.000000        1878.000000  \n",
       "25%              -122.411726    3777.000000        1980.000000  \n",
       "50%              -122.398279    4958.000000        1987.000000  \n",
       "75%              -122.288045    5502.000000        1992.000000  \n",
       "max              -121.874119    6645.000000        2001.000000  "
      ]
     },
     "execution_count": 4,
     "metadata": {},
     "output_type": "execute_result"
    }
   ],
   "source": [
    "bikeshare.describe()"
   ]
  },
  {
   "cell_type": "markdown",
   "metadata": {},
   "source": [
    "I noticed there are null values in the dataset so, I will perform some preliminary wrangling "
   ]
  },
  {
   "cell_type": "markdown",
   "metadata": {},
   "source": [
    "## QUESTION\n",
    "How many null values are in the dataset?"
   ]
  },
  {
   "cell_type": "markdown",
   "metadata": {},
   "source": [
    "## CODE"
   ]
  },
  {
   "cell_type": "code",
   "execution_count": 5,
   "metadata": {},
   "outputs": [
    {
     "data": {
      "text/plain": [
       "duration_sec                  0\n",
       "start_time                    0\n",
       "end_time                      0\n",
       "start_station_id            197\n",
       "start_station_name          197\n",
       "start_station_latitude        0\n",
       "start_station_longitude       0\n",
       "end_station_id              197\n",
       "end_station_name            197\n",
       "end_station_latitude          0\n",
       "end_station_longitude         0\n",
       "bike_id                       0\n",
       "user_type                     0\n",
       "member_birth_year          8265\n",
       "member_gender              8265\n",
       "bike_share_for_all_trip       0\n",
       "dtype: int64"
      ]
     },
     "execution_count": 5,
     "metadata": {},
     "output_type": "execute_result"
    }
   ],
   "source": [
    "## Using the method .isna().sum() to get the total of null values in each column\n",
    "bikeshare.isna().sum()"
   ]
  },
  {
   "cell_type": "markdown",
   "metadata": {},
   "source": [
    "I noticed there are columns i might not use in that course of this exploration. So, i will drop them. Then, i am going to create a bar chart to represent the null values."
   ]
  },
  {
   "cell_type": "code",
   "execution_count": 6,
   "metadata": {},
   "outputs": [
    {
     "name": "stdout",
     "output_type": "stream",
     "text": [
      "duration_sec                  0\n",
      "start_station_id            197\n",
      "start_station_name          197\n",
      "start_station_latitude        0\n",
      "end_station_id              197\n",
      "end_station_name            197\n",
      "end_station_latitude          0\n",
      "bike_id                       0\n",
      "user_type                     0\n",
      "member_birth_year          8265\n",
      "member_gender              8265\n",
      "bike_share_for_all_trip       0\n",
      "dtype: int64\n"
     ]
    }
   ],
   "source": [
    "## dropping columns that might not be used for this exploration\n",
    "na_counts = bikeshare.drop(['start_time', 'end_time', 'start_station_longitude', 'end_station_longitude'], axis=1).isna().sum()\n",
    "print(na_counts)"
   ]
  },
  {
   "cell_type": "code",
   "execution_count": 7,
   "metadata": {},
   "outputs": [
    {
     "data": {
      "text/plain": [
       "Text(0.5,1,'Missing value counts')"
      ]
     },
     "execution_count": 7,
     "metadata": {},
     "output_type": "execute_result"
    },
    {
     "data": {
      "image/png": "[encoded data removed]",
      "text/plain": [
       "<matplotlib.figure.Figure at 0x7f425c5e7ac8>"
      ]
     },
     "metadata": {
      "needs_background": "light"
     },
     "output_type": "display_data"
    }
   ],
   "source": [
    "## plotting\n",
    "sb.barplot(na_counts.index.values, na_counts)\n",
    "\n",
    "# getting the current tick locations and labels\n",
    "plt.xticks(rotation=90) \n",
    "\n",
    "# Using logic to print value on each bar\n",
    "for i in range (na_counts.shape[0]):\n",
    "    count = na_counts[i]\n",
    "    plt.text(i, count+300, count, ha = 'center', va='top')\n",
    "plt.title('Missing value counts')"
   ]
  },
  {
   "cell_type": "markdown",
   "metadata": {},
   "source": [
    "## OBSERVATION\n",
    "This shows that member birth year and gender has greater missing values than the rest of the columns."
   ]
  },
  {
   "cell_type": "markdown",
   "metadata": {},
   "source": [
    "I will drop the null values since they are many. i used the .dropna() method"
   ]
  },
  {
   "cell_type": "code",
   "execution_count": 12,
   "metadata": {},
   "outputs": [
    {
     "data": {
      "text/html": [
       "<div>\n",
       "<style scoped>\n",
       "    .dataframe tbody tr th:only-of-type {\n",
       "        vertical-align: middle;\n",
       "    }\n",
       "\n",
       "    .dataframe tbody tr th {\n",
       "        vertical-align: top;\n",
       "    }\n",
       "\n",
       "    .dataframe thead th {\n",
       "        text-align: right;\n",
       "    }\n",
       "</style>\n",
       "<table border=\"1\" class=\"dataframe\">\n",
       "  <thead>\n",
       "    <tr style=\"text-align: right;\">\n",
       "      <th></th>\n",
       "      <th>duration_sec</th>\n",
       "      <th>start_time</th>\n",
       "      <th>end_time</th>\n",
       "      <th>start_station_id</th>\n",
       "      <th>start_station_name</th>\n",
       "      <th>start_station_latitude</th>\n",
       "      <th>start_station_longitude</th>\n",
       "      <th>end_station_id</th>\n",
       "      <th>end_station_name</th>\n",
       "      <th>end_station_latitude</th>\n",
       "      <th>end_station_longitude</th>\n",
       "      <th>bike_id</th>\n",
       "      <th>user_type</th>\n",
       "      <th>member_birth_year</th>\n",
       "      <th>member_gender</th>\n",
       "      <th>bike_share_for_all_trip</th>\n",
       "    </tr>\n",
       "  </thead>\n",
       "  <tbody>\n",
       "    <tr>\n",
       "      <th>0</th>\n",
       "      <td>52185</td>\n",
       "      <td>2019-02-28 17:32:10.1450</td>\n",
       "      <td>2019-03-01 08:01:55.9750</td>\n",
       "      <td>21.0</td>\n",
       "      <td>Montgomery St BART Station (Market St at 2nd St)</td>\n",
       "      <td>37.789625</td>\n",
       "      <td>-122.400811</td>\n",
       "      <td>13.0</td>\n",
       "      <td>Commercial St at Montgomery St</td>\n",
       "      <td>37.794231</td>\n",
       "      <td>-122.402923</td>\n",
       "      <td>4902</td>\n",
       "      <td>Customer</td>\n",
       "      <td>1984.0</td>\n",
       "      <td>Male</td>\n",
       "      <td>No</td>\n",
       "    </tr>\n",
       "    <tr>\n",
       "      <th>2</th>\n",
       "      <td>61854</td>\n",
       "      <td>2019-02-28 12:13:13.2180</td>\n",
       "      <td>2019-03-01 05:24:08.1460</td>\n",
       "      <td>86.0</td>\n",
       "      <td>Market St at Dolores St</td>\n",
       "      <td>37.769305</td>\n",
       "      <td>-122.426826</td>\n",
       "      <td>3.0</td>\n",
       "      <td>Powell St BART Station (Market St at 4th St)</td>\n",
       "      <td>37.786375</td>\n",
       "      <td>-122.404904</td>\n",
       "      <td>5905</td>\n",
       "      <td>Customer</td>\n",
       "      <td>1972.0</td>\n",
       "      <td>Male</td>\n",
       "      <td>No</td>\n",
       "    </tr>\n",
       "    <tr>\n",
       "      <th>3</th>\n",
       "      <td>36490</td>\n",
       "      <td>2019-02-28 17:54:26.0100</td>\n",
       "      <td>2019-03-01 04:02:36.8420</td>\n",
       "      <td>375.0</td>\n",
       "      <td>Grove St at Masonic Ave</td>\n",
       "      <td>37.774836</td>\n",
       "      <td>-122.446546</td>\n",
       "      <td>70.0</td>\n",
       "      <td>Central Ave at Fell St</td>\n",
       "      <td>37.773311</td>\n",
       "      <td>-122.444293</td>\n",
       "      <td>6638</td>\n",
       "      <td>Subscriber</td>\n",
       "      <td>1989.0</td>\n",
       "      <td>Other</td>\n",
       "      <td>No</td>\n",
       "    </tr>\n",
       "    <tr>\n",
       "      <th>4</th>\n",
       "      <td>1585</td>\n",
       "      <td>2019-02-28 23:54:18.5490</td>\n",
       "      <td>2019-03-01 00:20:44.0740</td>\n",
       "      <td>7.0</td>\n",
       "      <td>Frank H Ogawa Plaza</td>\n",
       "      <td>37.804562</td>\n",
       "      <td>-122.271738</td>\n",
       "      <td>222.0</td>\n",
       "      <td>10th Ave at E 15th St</td>\n",
       "      <td>37.792714</td>\n",
       "      <td>-122.248780</td>\n",
       "      <td>4898</td>\n",
       "      <td>Subscriber</td>\n",
       "      <td>1974.0</td>\n",
       "      <td>Male</td>\n",
       "      <td>Yes</td>\n",
       "    </tr>\n",
       "    <tr>\n",
       "      <th>5</th>\n",
       "      <td>1793</td>\n",
       "      <td>2019-02-28 23:49:58.6320</td>\n",
       "      <td>2019-03-01 00:19:51.7600</td>\n",
       "      <td>93.0</td>\n",
       "      <td>4th St at Mission Bay Blvd S</td>\n",
       "      <td>37.770407</td>\n",
       "      <td>-122.391198</td>\n",
       "      <td>323.0</td>\n",
       "      <td>Broadway at Kearny</td>\n",
       "      <td>37.798014</td>\n",
       "      <td>-122.405950</td>\n",
       "      <td>5200</td>\n",
       "      <td>Subscriber</td>\n",
       "      <td>1959.0</td>\n",
       "      <td>Male</td>\n",
       "      <td>No</td>\n",
       "    </tr>\n",
       "    <tr>\n",
       "      <th>6</th>\n",
       "      <td>1147</td>\n",
       "      <td>2019-02-28 23:55:35.1040</td>\n",
       "      <td>2019-03-01 00:14:42.5880</td>\n",
       "      <td>300.0</td>\n",
       "      <td>Palm St at Willow St</td>\n",
       "      <td>37.317298</td>\n",
       "      <td>-121.884995</td>\n",
       "      <td>312.0</td>\n",
       "      <td>San Jose Diridon Station</td>\n",
       "      <td>37.329732</td>\n",
       "      <td>-121.901782</td>\n",
       "      <td>3803</td>\n",
       "      <td>Subscriber</td>\n",
       "      <td>1983.0</td>\n",
       "      <td>Female</td>\n",
       "      <td>No</td>\n",
       "    </tr>\n",
       "    <tr>\n",
       "      <th>7</th>\n",
       "      <td>1615</td>\n",
       "      <td>2019-02-28 23:41:06.7660</td>\n",
       "      <td>2019-03-01 00:08:02.7560</td>\n",
       "      <td>10.0</td>\n",
       "      <td>Washington St at Kearny St</td>\n",
       "      <td>37.795393</td>\n",
       "      <td>-122.404770</td>\n",
       "      <td>127.0</td>\n",
       "      <td>Valencia St at 21st St</td>\n",
       "      <td>37.756708</td>\n",
       "      <td>-122.421025</td>\n",
       "      <td>6329</td>\n",
       "      <td>Subscriber</td>\n",
       "      <td>1989.0</td>\n",
       "      <td>Male</td>\n",
       "      <td>No</td>\n",
       "    </tr>\n",
       "    <tr>\n",
       "      <th>8</th>\n",
       "      <td>1570</td>\n",
       "      <td>2019-02-28 23:41:48.7900</td>\n",
       "      <td>2019-03-01 00:07:59.7150</td>\n",
       "      <td>10.0</td>\n",
       "      <td>Washington St at Kearny St</td>\n",
       "      <td>37.795393</td>\n",
       "      <td>-122.404770</td>\n",
       "      <td>127.0</td>\n",
       "      <td>Valencia St at 21st St</td>\n",
       "      <td>37.756708</td>\n",
       "      <td>-122.421025</td>\n",
       "      <td>6548</td>\n",
       "      <td>Subscriber</td>\n",
       "      <td>1988.0</td>\n",
       "      <td>Other</td>\n",
       "      <td>No</td>\n",
       "    </tr>\n",
       "    <tr>\n",
       "      <th>9</th>\n",
       "      <td>1049</td>\n",
       "      <td>2019-02-28 23:49:47.6990</td>\n",
       "      <td>2019-03-01 00:07:17.0250</td>\n",
       "      <td>19.0</td>\n",
       "      <td>Post St at Kearny St</td>\n",
       "      <td>37.788975</td>\n",
       "      <td>-122.403452</td>\n",
       "      <td>121.0</td>\n",
       "      <td>Mission Playground</td>\n",
       "      <td>37.759210</td>\n",
       "      <td>-122.421339</td>\n",
       "      <td>6488</td>\n",
       "      <td>Subscriber</td>\n",
       "      <td>1992.0</td>\n",
       "      <td>Male</td>\n",
       "      <td>No</td>\n",
       "    </tr>\n",
       "    <tr>\n",
       "      <th>10</th>\n",
       "      <td>458</td>\n",
       "      <td>2019-02-28 23:57:57.2110</td>\n",
       "      <td>2019-03-01 00:05:35.4350</td>\n",
       "      <td>370.0</td>\n",
       "      <td>Jones St at Post St</td>\n",
       "      <td>37.787327</td>\n",
       "      <td>-122.413278</td>\n",
       "      <td>43.0</td>\n",
       "      <td>San Francisco Public Library (Grove St at Hyde...</td>\n",
       "      <td>37.778768</td>\n",
       "      <td>-122.415929</td>\n",
       "      <td>5318</td>\n",
       "      <td>Subscriber</td>\n",
       "      <td>1996.0</td>\n",
       "      <td>Female</td>\n",
       "      <td>Yes</td>\n",
       "    </tr>\n",
       "    <tr>\n",
       "      <th>11</th>\n",
       "      <td>506</td>\n",
       "      <td>2019-02-28 23:56:55.5400</td>\n",
       "      <td>2019-03-01 00:05:21.7330</td>\n",
       "      <td>44.0</td>\n",
       "      <td>Civic Center/UN Plaza BART Station (Market St ...</td>\n",
       "      <td>37.781074</td>\n",
       "      <td>-122.411738</td>\n",
       "      <td>343.0</td>\n",
       "      <td>Bryant St at 2nd St</td>\n",
       "      <td>37.783172</td>\n",
       "      <td>-122.393572</td>\n",
       "      <td>5848</td>\n",
       "      <td>Subscriber</td>\n",
       "      <td>1993.0</td>\n",
       "      <td>Male</td>\n",
       "      <td>No</td>\n",
       "    </tr>\n",
       "    <tr>\n",
       "      <th>12</th>\n",
       "      <td>1176</td>\n",
       "      <td>2019-02-28 23:45:12.6510</td>\n",
       "      <td>2019-03-01 00:04:49.1840</td>\n",
       "      <td>127.0</td>\n",
       "      <td>Valencia St at 21st St</td>\n",
       "      <td>37.756708</td>\n",
       "      <td>-122.421025</td>\n",
       "      <td>323.0</td>\n",
       "      <td>Broadway at Kearny</td>\n",
       "      <td>37.798014</td>\n",
       "      <td>-122.405950</td>\n",
       "      <td>5328</td>\n",
       "      <td>Customer</td>\n",
       "      <td>1990.0</td>\n",
       "      <td>Male</td>\n",
       "      <td>No</td>\n",
       "    </tr>\n",
       "    <tr>\n",
       "      <th>14</th>\n",
       "      <td>395</td>\n",
       "      <td>2019-02-28 23:56:26.8480</td>\n",
       "      <td>2019-03-01 00:03:01.9470</td>\n",
       "      <td>243.0</td>\n",
       "      <td>Bancroft Way at College Ave</td>\n",
       "      <td>37.869360</td>\n",
       "      <td>-122.254337</td>\n",
       "      <td>252.0</td>\n",
       "      <td>Channing Way at Shattuck Ave</td>\n",
       "      <td>37.865847</td>\n",
       "      <td>-122.267443</td>\n",
       "      <td>4786</td>\n",
       "      <td>Subscriber</td>\n",
       "      <td>1988.0</td>\n",
       "      <td>Male</td>\n",
       "      <td>No</td>\n",
       "    </tr>\n",
       "    <tr>\n",
       "      <th>15</th>\n",
       "      <td>208</td>\n",
       "      <td>2019-02-28 23:59:18.5480</td>\n",
       "      <td>2019-03-01 00:02:47.2280</td>\n",
       "      <td>349.0</td>\n",
       "      <td>Howard St at Mary St</td>\n",
       "      <td>37.781010</td>\n",
       "      <td>-122.405666</td>\n",
       "      <td>60.0</td>\n",
       "      <td>8th St at Ringold St</td>\n",
       "      <td>37.774520</td>\n",
       "      <td>-122.409449</td>\n",
       "      <td>6361</td>\n",
       "      <td>Subscriber</td>\n",
       "      <td>1993.0</td>\n",
       "      <td>Male</td>\n",
       "      <td>Yes</td>\n",
       "    </tr>\n",
       "    <tr>\n",
       "      <th>16</th>\n",
       "      <td>548</td>\n",
       "      <td>2019-02-28 23:50:41.6070</td>\n",
       "      <td>2019-02-28 23:59:49.9530</td>\n",
       "      <td>131.0</td>\n",
       "      <td>22nd St at Dolores St</td>\n",
       "      <td>37.755000</td>\n",
       "      <td>-122.425728</td>\n",
       "      <td>71.0</td>\n",
       "      <td>Broderick St at Oak St</td>\n",
       "      <td>37.773063</td>\n",
       "      <td>-122.439078</td>\n",
       "      <td>6572</td>\n",
       "      <td>Subscriber</td>\n",
       "      <td>1981.0</td>\n",
       "      <td>Male</td>\n",
       "      <td>No</td>\n",
       "    </tr>\n",
       "    <tr>\n",
       "      <th>17</th>\n",
       "      <td>674</td>\n",
       "      <td>2019-02-28 23:48:25.0950</td>\n",
       "      <td>2019-02-28 23:59:40.0920</td>\n",
       "      <td>74.0</td>\n",
       "      <td>Laguna St at Hayes St</td>\n",
       "      <td>37.776435</td>\n",
       "      <td>-122.426244</td>\n",
       "      <td>336.0</td>\n",
       "      <td>Potrero Ave and Mariposa St</td>\n",
       "      <td>37.763281</td>\n",
       "      <td>-122.407377</td>\n",
       "      <td>5343</td>\n",
       "      <td>Subscriber</td>\n",
       "      <td>1975.0</td>\n",
       "      <td>Male</td>\n",
       "      <td>No</td>\n",
       "    </tr>\n",
       "    <tr>\n",
       "      <th>18</th>\n",
       "      <td>557</td>\n",
       "      <td>2019-02-28 23:49:01.8510</td>\n",
       "      <td>2019-02-28 23:58:19.8090</td>\n",
       "      <td>321.0</td>\n",
       "      <td>5th St at Folsom</td>\n",
       "      <td>37.780146</td>\n",
       "      <td>-122.403071</td>\n",
       "      <td>75.0</td>\n",
       "      <td>Market St at Franklin St</td>\n",
       "      <td>37.773793</td>\n",
       "      <td>-122.421239</td>\n",
       "      <td>5854</td>\n",
       "      <td>Subscriber</td>\n",
       "      <td>1990.0</td>\n",
       "      <td>Male</td>\n",
       "      <td>No</td>\n",
       "    </tr>\n",
       "    <tr>\n",
       "      <th>19</th>\n",
       "      <td>874</td>\n",
       "      <td>2019-02-28 23:43:05.1830</td>\n",
       "      <td>2019-02-28 23:57:39.7960</td>\n",
       "      <td>180.0</td>\n",
       "      <td>Telegraph Ave at 23rd St</td>\n",
       "      <td>37.812678</td>\n",
       "      <td>-122.268773</td>\n",
       "      <td>180.0</td>\n",
       "      <td>Telegraph Ave at 23rd St</td>\n",
       "      <td>37.812678</td>\n",
       "      <td>-122.268773</td>\n",
       "      <td>5629</td>\n",
       "      <td>Customer</td>\n",
       "      <td>1978.0</td>\n",
       "      <td>Male</td>\n",
       "      <td>No</td>\n",
       "    </tr>\n",
       "    <tr>\n",
       "      <th>20</th>\n",
       "      <td>417</td>\n",
       "      <td>2019-02-28 23:50:38.2390</td>\n",
       "      <td>2019-02-28 23:57:35.8520</td>\n",
       "      <td>72.0</td>\n",
       "      <td>Page St at Scott St</td>\n",
       "      <td>37.772406</td>\n",
       "      <td>-122.435650</td>\n",
       "      <td>107.0</td>\n",
       "      <td>17th St at Dolores St</td>\n",
       "      <td>37.763015</td>\n",
       "      <td>-122.426497</td>\n",
       "      <td>4999</td>\n",
       "      <td>Subscriber</td>\n",
       "      <td>1983.0</td>\n",
       "      <td>Male</td>\n",
       "      <td>No</td>\n",
       "    </tr>\n",
       "    <tr>\n",
       "      <th>21</th>\n",
       "      <td>414</td>\n",
       "      <td>2019-02-28 23:50:26.8790</td>\n",
       "      <td>2019-02-28 23:57:21.1300</td>\n",
       "      <td>163.0</td>\n",
       "      <td>Lake Merritt BART Station</td>\n",
       "      <td>37.797320</td>\n",
       "      <td>-122.265320</td>\n",
       "      <td>221.0</td>\n",
       "      <td>6th Ave at E 12th St (Temporary Location)</td>\n",
       "      <td>37.794396</td>\n",
       "      <td>-122.253842</td>\n",
       "      <td>6007</td>\n",
       "      <td>Subscriber</td>\n",
       "      <td>1984.0</td>\n",
       "      <td>Male</td>\n",
       "      <td>Yes</td>\n",
       "    </tr>\n",
       "    <tr>\n",
       "      <th>22</th>\n",
       "      <td>743</td>\n",
       "      <td>2019-02-28 23:44:56.4390</td>\n",
       "      <td>2019-02-28 23:57:20.2120</td>\n",
       "      <td>370.0</td>\n",
       "      <td>Jones St at Post St</td>\n",
       "      <td>37.787327</td>\n",
       "      <td>-122.413278</td>\n",
       "      <td>52.0</td>\n",
       "      <td>McAllister St at Baker St</td>\n",
       "      <td>37.777416</td>\n",
       "      <td>-122.441838</td>\n",
       "      <td>5479</td>\n",
       "      <td>Subscriber</td>\n",
       "      <td>1991.0</td>\n",
       "      <td>Female</td>\n",
       "      <td>No</td>\n",
       "    </tr>\n",
       "    <tr>\n",
       "      <th>23</th>\n",
       "      <td>367</td>\n",
       "      <td>2019-02-28 23:51:06.0140</td>\n",
       "      <td>2019-02-28 23:57:13.3120</td>\n",
       "      <td>243.0</td>\n",
       "      <td>Bancroft Way at College Ave</td>\n",
       "      <td>37.869360</td>\n",
       "      <td>-122.254337</td>\n",
       "      <td>269.0</td>\n",
       "      <td>Telegraph Ave at Carleton St</td>\n",
       "      <td>37.862320</td>\n",
       "      <td>-122.258801</td>\n",
       "      <td>1804</td>\n",
       "      <td>Subscriber</td>\n",
       "      <td>1997.0</td>\n",
       "      <td>Female</td>\n",
       "      <td>No</td>\n",
       "    </tr>\n",
       "    <tr>\n",
       "      <th>24</th>\n",
       "      <td>252</td>\n",
       "      <td>2019-02-28 23:52:51.1640</td>\n",
       "      <td>2019-02-28 23:57:03.9760</td>\n",
       "      <td>190.0</td>\n",
       "      <td>West St at 40th St</td>\n",
       "      <td>37.830223</td>\n",
       "      <td>-122.270950</td>\n",
       "      <td>189.0</td>\n",
       "      <td>Genoa St at 55th St</td>\n",
       "      <td>37.839649</td>\n",
       "      <td>-122.271756</td>\n",
       "      <td>5678</td>\n",
       "      <td>Subscriber</td>\n",
       "      <td>1975.0</td>\n",
       "      <td>Male</td>\n",
       "      <td>No</td>\n",
       "    </tr>\n",
       "    <tr>\n",
       "      <th>25</th>\n",
       "      <td>360</td>\n",
       "      <td>2019-02-28 23:50:31.4310</td>\n",
       "      <td>2019-02-28 23:56:31.8910</td>\n",
       "      <td>163.0</td>\n",
       "      <td>Lake Merritt BART Station</td>\n",
       "      <td>37.797320</td>\n",
       "      <td>-122.265320</td>\n",
       "      <td>196.0</td>\n",
       "      <td>Grand Ave at Perkins St</td>\n",
       "      <td>37.808894</td>\n",
       "      <td>-122.256460</td>\n",
       "      <td>6240</td>\n",
       "      <td>Subscriber</td>\n",
       "      <td>1986.0</td>\n",
       "      <td>Male</td>\n",
       "      <td>No</td>\n",
       "    </tr>\n",
       "    <tr>\n",
       "      <th>26</th>\n",
       "      <td>385</td>\n",
       "      <td>2019-02-28 23:49:24.3990</td>\n",
       "      <td>2019-02-28 23:55:50.2840</td>\n",
       "      <td>6.0</td>\n",
       "      <td>The Embarcadero at Sansome St</td>\n",
       "      <td>37.804770</td>\n",
       "      <td>-122.403234</td>\n",
       "      <td>15.0</td>\n",
       "      <td>San Francisco Ferry Building (Harry Bridges Pl...</td>\n",
       "      <td>37.795392</td>\n",
       "      <td>-122.394203</td>\n",
       "      <td>6531</td>\n",
       "      <td>Customer</td>\n",
       "      <td>2000.0</td>\n",
       "      <td>Male</td>\n",
       "      <td>No</td>\n",
       "    </tr>\n",
       "    <tr>\n",
       "      <th>27</th>\n",
       "      <td>408</td>\n",
       "      <td>2019-02-28 23:48:08.2820</td>\n",
       "      <td>2019-02-28 23:54:56.9300</td>\n",
       "      <td>78.0</td>\n",
       "      <td>Folsom St at 9th St</td>\n",
       "      <td>37.773717</td>\n",
       "      <td>-122.411647</td>\n",
       "      <td>78.0</td>\n",
       "      <td>Folsom St at 9th St</td>\n",
       "      <td>37.773717</td>\n",
       "      <td>-122.411647</td>\n",
       "      <td>5410</td>\n",
       "      <td>Subscriber</td>\n",
       "      <td>1982.0</td>\n",
       "      <td>Male</td>\n",
       "      <td>No</td>\n",
       "    </tr>\n",
       "    <tr>\n",
       "      <th>29</th>\n",
       "      <td>629</td>\n",
       "      <td>2019-02-28 23:43:48.6580</td>\n",
       "      <td>2019-02-28 23:54:18.2540</td>\n",
       "      <td>258.0</td>\n",
       "      <td>University Ave at Oxford St</td>\n",
       "      <td>37.872355</td>\n",
       "      <td>-122.266447</td>\n",
       "      <td>263.0</td>\n",
       "      <td>Channing Way at San Pablo Ave</td>\n",
       "      <td>37.862827</td>\n",
       "      <td>-122.290230</td>\n",
       "      <td>363</td>\n",
       "      <td>Subscriber</td>\n",
       "      <td>1995.0</td>\n",
       "      <td>Male</td>\n",
       "      <td>No</td>\n",
       "    </tr>\n",
       "    <tr>\n",
       "      <th>30</th>\n",
       "      <td>163</td>\n",
       "      <td>2019-02-28 23:50:45.6980</td>\n",
       "      <td>2019-02-28 23:53:29.5690</td>\n",
       "      <td>238.0</td>\n",
       "      <td>MLK Jr Way at University Ave</td>\n",
       "      <td>37.871719</td>\n",
       "      <td>-122.273068</td>\n",
       "      <td>244.0</td>\n",
       "      <td>Shattuck Ave at Hearst Ave</td>\n",
       "      <td>37.873676</td>\n",
       "      <td>-122.268487</td>\n",
       "      <td>5669</td>\n",
       "      <td>Subscriber</td>\n",
       "      <td>1996.0</td>\n",
       "      <td>Male</td>\n",
       "      <td>Yes</td>\n",
       "    </tr>\n",
       "    <tr>\n",
       "      <th>31</th>\n",
       "      <td>223</td>\n",
       "      <td>2019-02-28 23:49:27.0270</td>\n",
       "      <td>2019-02-28 23:53:10.5350</td>\n",
       "      <td>28.0</td>\n",
       "      <td>The Embarcadero at Bryant St</td>\n",
       "      <td>37.787168</td>\n",
       "      <td>-122.388098</td>\n",
       "      <td>50.0</td>\n",
       "      <td>2nd St at Townsend St</td>\n",
       "      <td>37.780526</td>\n",
       "      <td>-122.390288</td>\n",
       "      <td>6267</td>\n",
       "      <td>Customer</td>\n",
       "      <td>1993.0</td>\n",
       "      <td>Male</td>\n",
       "      <td>No</td>\n",
       "    </tr>\n",
       "    <tr>\n",
       "      <th>32</th>\n",
       "      <td>405</td>\n",
       "      <td>2019-02-28 23:45:39.2340</td>\n",
       "      <td>2019-02-28 23:52:24.8500</td>\n",
       "      <td>109.0</td>\n",
       "      <td>17th St at Valencia St</td>\n",
       "      <td>37.763316</td>\n",
       "      <td>-122.421904</td>\n",
       "      <td>73.0</td>\n",
       "      <td>Pierce St at Haight St</td>\n",
       "      <td>37.771793</td>\n",
       "      <td>-122.433708</td>\n",
       "      <td>5130</td>\n",
       "      <td>Subscriber</td>\n",
       "      <td>1980.0</td>\n",
       "      <td>Female</td>\n",
       "      <td>No</td>\n",
       "    </tr>\n",
       "    <tr>\n",
       "      <th>...</th>\n",
       "      <td>...</td>\n",
       "      <td>...</td>\n",
       "      <td>...</td>\n",
       "      <td>...</td>\n",
       "      <td>...</td>\n",
       "      <td>...</td>\n",
       "      <td>...</td>\n",
       "      <td>...</td>\n",
       "      <td>...</td>\n",
       "      <td>...</td>\n",
       "      <td>...</td>\n",
       "      <td>...</td>\n",
       "      <td>...</td>\n",
       "      <td>...</td>\n",
       "      <td>...</td>\n",
       "      <td>...</td>\n",
       "    </tr>\n",
       "    <tr>\n",
       "      <th>183381</th>\n",
       "      <td>426</td>\n",
       "      <td>2019-02-01 00:48:54.1590</td>\n",
       "      <td>2019-02-01 00:56:00.4740</td>\n",
       "      <td>230.0</td>\n",
       "      <td>14th St at Mandela Pkwy</td>\n",
       "      <td>37.810743</td>\n",
       "      <td>-122.291415</td>\n",
       "      <td>213.0</td>\n",
       "      <td>32nd St at Adeline St</td>\n",
       "      <td>37.823847</td>\n",
       "      <td>-122.281193</td>\n",
       "      <td>3535</td>\n",
       "      <td>Subscriber</td>\n",
       "      <td>1997.0</td>\n",
       "      <td>Other</td>\n",
       "      <td>Yes</td>\n",
       "    </tr>\n",
       "    <tr>\n",
       "      <th>183382</th>\n",
       "      <td>961</td>\n",
       "      <td>2019-02-01 00:38:29.9040</td>\n",
       "      <td>2019-02-01 00:54:31.7320</td>\n",
       "      <td>95.0</td>\n",
       "      <td>Sanchez St at 15th St</td>\n",
       "      <td>37.766219</td>\n",
       "      <td>-122.431060</td>\n",
       "      <td>324.0</td>\n",
       "      <td>Union Square (Powell St at Post St)</td>\n",
       "      <td>37.788300</td>\n",
       "      <td>-122.408531</td>\n",
       "      <td>1565</td>\n",
       "      <td>Subscriber</td>\n",
       "      <td>1988.0</td>\n",
       "      <td>Male</td>\n",
       "      <td>No</td>\n",
       "    </tr>\n",
       "    <tr>\n",
       "      <th>183383</th>\n",
       "      <td>434</td>\n",
       "      <td>2019-02-01 00:47:11.6530</td>\n",
       "      <td>2019-02-01 00:54:26.3050</td>\n",
       "      <td>274.0</td>\n",
       "      <td>Oregon St at Adeline St</td>\n",
       "      <td>37.857567</td>\n",
       "      <td>-122.267558</td>\n",
       "      <td>244.0</td>\n",
       "      <td>Shattuck Ave at Hearst Ave</td>\n",
       "      <td>37.873676</td>\n",
       "      <td>-122.268487</td>\n",
       "      <td>4541</td>\n",
       "      <td>Customer</td>\n",
       "      <td>1997.0</td>\n",
       "      <td>Male</td>\n",
       "      <td>No</td>\n",
       "    </tr>\n",
       "    <tr>\n",
       "      <th>183384</th>\n",
       "      <td>184</td>\n",
       "      <td>2019-02-01 00:50:41.5790</td>\n",
       "      <td>2019-02-01 00:53:46.1240</td>\n",
       "      <td>316.0</td>\n",
       "      <td>San Salvador St at 1st St</td>\n",
       "      <td>37.330165</td>\n",
       "      <td>-121.885831</td>\n",
       "      <td>298.0</td>\n",
       "      <td>Oak St at 1st St</td>\n",
       "      <td>37.322125</td>\n",
       "      <td>-121.881090</td>\n",
       "      <td>4044</td>\n",
       "      <td>Subscriber</td>\n",
       "      <td>1991.0</td>\n",
       "      <td>Male</td>\n",
       "      <td>No</td>\n",
       "    </tr>\n",
       "    <tr>\n",
       "      <th>183385</th>\n",
       "      <td>400</td>\n",
       "      <td>2019-02-01 00:46:47.2760</td>\n",
       "      <td>2019-02-01 00:53:27.5960</td>\n",
       "      <td>220.0</td>\n",
       "      <td>San Pablo Ave at MLK Jr Way</td>\n",
       "      <td>37.811351</td>\n",
       "      <td>-122.273422</td>\n",
       "      <td>337.0</td>\n",
       "      <td>Webster St at 19th St</td>\n",
       "      <td>37.806970</td>\n",
       "      <td>-122.266588</td>\n",
       "      <td>3487</td>\n",
       "      <td>Subscriber</td>\n",
       "      <td>1945.0</td>\n",
       "      <td>Male</td>\n",
       "      <td>Yes</td>\n",
       "    </tr>\n",
       "    <tr>\n",
       "      <th>183386</th>\n",
       "      <td>425</td>\n",
       "      <td>2019-02-01 00:42:20.4720</td>\n",
       "      <td>2019-02-01 00:49:25.5150</td>\n",
       "      <td>239.0</td>\n",
       "      <td>Bancroft Way at Telegraph Ave</td>\n",
       "      <td>37.868813</td>\n",
       "      <td>-122.258764</td>\n",
       "      <td>245.0</td>\n",
       "      <td>Downtown Berkeley BART</td>\n",
       "      <td>37.870139</td>\n",
       "      <td>-122.268422</td>\n",
       "      <td>1377</td>\n",
       "      <td>Subscriber</td>\n",
       "      <td>1998.0</td>\n",
       "      <td>Male</td>\n",
       "      <td>Yes</td>\n",
       "    </tr>\n",
       "    <tr>\n",
       "      <th>183387</th>\n",
       "      <td>598</td>\n",
       "      <td>2019-02-01 00:39:12.6840</td>\n",
       "      <td>2019-02-01 00:49:10.7910</td>\n",
       "      <td>239.0</td>\n",
       "      <td>Bancroft Way at Telegraph Ave</td>\n",
       "      <td>37.868813</td>\n",
       "      <td>-122.258764</td>\n",
       "      <td>245.0</td>\n",
       "      <td>Downtown Berkeley BART</td>\n",
       "      <td>37.870139</td>\n",
       "      <td>-122.268422</td>\n",
       "      <td>2055</td>\n",
       "      <td>Subscriber</td>\n",
       "      <td>1999.0</td>\n",
       "      <td>Male</td>\n",
       "      <td>Yes</td>\n",
       "    </tr>\n",
       "    <tr>\n",
       "      <th>183388</th>\n",
       "      <td>490</td>\n",
       "      <td>2019-02-01 00:39:53.1120</td>\n",
       "      <td>2019-02-01 00:48:03.3380</td>\n",
       "      <td>61.0</td>\n",
       "      <td>Howard St at 8th St</td>\n",
       "      <td>37.776513</td>\n",
       "      <td>-122.411306</td>\n",
       "      <td>81.0</td>\n",
       "      <td>Berry St at 4th St</td>\n",
       "      <td>37.775880</td>\n",
       "      <td>-122.393170</td>\n",
       "      <td>5411</td>\n",
       "      <td>Subscriber</td>\n",
       "      <td>1927.0</td>\n",
       "      <td>Male</td>\n",
       "      <td>No</td>\n",
       "    </tr>\n",
       "    <tr>\n",
       "      <th>183389</th>\n",
       "      <td>184</td>\n",
       "      <td>2019-02-01 00:43:56.5560</td>\n",
       "      <td>2019-02-01 00:47:01.0090</td>\n",
       "      <td>66.0</td>\n",
       "      <td>3rd St at Townsend St</td>\n",
       "      <td>37.778742</td>\n",
       "      <td>-122.392741</td>\n",
       "      <td>47.0</td>\n",
       "      <td>4th St at Harrison St</td>\n",
       "      <td>37.780955</td>\n",
       "      <td>-122.399749</td>\n",
       "      <td>4960</td>\n",
       "      <td>Subscriber</td>\n",
       "      <td>1985.0</td>\n",
       "      <td>Other</td>\n",
       "      <td>No</td>\n",
       "    </tr>\n",
       "    <tr>\n",
       "      <th>183390</th>\n",
       "      <td>232</td>\n",
       "      <td>2019-02-01 00:40:00.0350</td>\n",
       "      <td>2019-02-01 00:43:52.8800</td>\n",
       "      <td>239.0</td>\n",
       "      <td>Bancroft Way at Telegraph Ave</td>\n",
       "      <td>37.868813</td>\n",
       "      <td>-122.258764</td>\n",
       "      <td>266.0</td>\n",
       "      <td>Parker St at Fulton St</td>\n",
       "      <td>37.862464</td>\n",
       "      <td>-122.264791</td>\n",
       "      <td>3756</td>\n",
       "      <td>Subscriber</td>\n",
       "      <td>1999.0</td>\n",
       "      <td>Male</td>\n",
       "      <td>No</td>\n",
       "    </tr>\n",
       "    <tr>\n",
       "      <th>183391</th>\n",
       "      <td>269</td>\n",
       "      <td>2019-02-01 00:37:47.5270</td>\n",
       "      <td>2019-02-01 00:42:17.0600</td>\n",
       "      <td>119.0</td>\n",
       "      <td>18th St at Noe St</td>\n",
       "      <td>37.761047</td>\n",
       "      <td>-122.432642</td>\n",
       "      <td>85.0</td>\n",
       "      <td>Church St at Duboce Ave</td>\n",
       "      <td>37.770083</td>\n",
       "      <td>-122.429156</td>\n",
       "      <td>5540</td>\n",
       "      <td>Subscriber</td>\n",
       "      <td>1980.0</td>\n",
       "      <td>Male</td>\n",
       "      <td>Yes</td>\n",
       "    </tr>\n",
       "    <tr>\n",
       "      <th>183392</th>\n",
       "      <td>1289</td>\n",
       "      <td>2019-02-01 00:19:45.6410</td>\n",
       "      <td>2019-02-01 00:41:15.5580</td>\n",
       "      <td>8.0</td>\n",
       "      <td>The Embarcadero at Vallejo St</td>\n",
       "      <td>37.799953</td>\n",
       "      <td>-122.398525</td>\n",
       "      <td>350.0</td>\n",
       "      <td>8th St at Brannan St</td>\n",
       "      <td>37.771431</td>\n",
       "      <td>-122.405787</td>\n",
       "      <td>3506</td>\n",
       "      <td>Subscriber</td>\n",
       "      <td>1993.0</td>\n",
       "      <td>Male</td>\n",
       "      <td>No</td>\n",
       "    </tr>\n",
       "    <tr>\n",
       "      <th>183393</th>\n",
       "      <td>155</td>\n",
       "      <td>2019-02-01 00:37:26.3680</td>\n",
       "      <td>2019-02-01 00:40:01.5760</td>\n",
       "      <td>116.0</td>\n",
       "      <td>Mississippi St at 17th St</td>\n",
       "      <td>37.764802</td>\n",
       "      <td>-122.394771</td>\n",
       "      <td>93.0</td>\n",
       "      <td>4th St at Mission Bay Blvd S</td>\n",
       "      <td>37.770407</td>\n",
       "      <td>-122.391198</td>\n",
       "      <td>5406</td>\n",
       "      <td>Subscriber</td>\n",
       "      <td>1985.0</td>\n",
       "      <td>Male</td>\n",
       "      <td>No</td>\n",
       "    </tr>\n",
       "    <tr>\n",
       "      <th>183394</th>\n",
       "      <td>720</td>\n",
       "      <td>2019-02-01 00:27:33.8340</td>\n",
       "      <td>2019-02-01 00:39:34.2330</td>\n",
       "      <td>26.0</td>\n",
       "      <td>1st St at Folsom St</td>\n",
       "      <td>37.787290</td>\n",
       "      <td>-122.394380</td>\n",
       "      <td>96.0</td>\n",
       "      <td>Dolores St at 15th St</td>\n",
       "      <td>37.766210</td>\n",
       "      <td>-122.426614</td>\n",
       "      <td>5331</td>\n",
       "      <td>Subscriber</td>\n",
       "      <td>1975.0</td>\n",
       "      <td>Male</td>\n",
       "      <td>No</td>\n",
       "    </tr>\n",
       "    <tr>\n",
       "      <th>183395</th>\n",
       "      <td>95</td>\n",
       "      <td>2019-02-01 00:37:23.1150</td>\n",
       "      <td>2019-02-01 00:38:58.3460</td>\n",
       "      <td>276.0</td>\n",
       "      <td>Julian St at The Alameda</td>\n",
       "      <td>37.332233</td>\n",
       "      <td>-121.912517</td>\n",
       "      <td>277.0</td>\n",
       "      <td>Morrison Ave at Julian St</td>\n",
       "      <td>37.333658</td>\n",
       "      <td>-121.908586</td>\n",
       "      <td>4299</td>\n",
       "      <td>Subscriber</td>\n",
       "      <td>1993.0</td>\n",
       "      <td>Male</td>\n",
       "      <td>Yes</td>\n",
       "    </tr>\n",
       "    <tr>\n",
       "      <th>183396</th>\n",
       "      <td>576</td>\n",
       "      <td>2019-02-01 00:27:06.5030</td>\n",
       "      <td>2019-02-01 00:36:43.4520</td>\n",
       "      <td>181.0</td>\n",
       "      <td>Grand Ave at Webster St</td>\n",
       "      <td>37.811377</td>\n",
       "      <td>-122.265192</td>\n",
       "      <td>212.0</td>\n",
       "      <td>Mosswood Park</td>\n",
       "      <td>37.824893</td>\n",
       "      <td>-122.260437</td>\n",
       "      <td>3561</td>\n",
       "      <td>Subscriber</td>\n",
       "      <td>1991.0</td>\n",
       "      <td>Male</td>\n",
       "      <td>Yes</td>\n",
       "    </tr>\n",
       "    <tr>\n",
       "      <th>183397</th>\n",
       "      <td>438</td>\n",
       "      <td>2019-02-01 00:28:56.1010</td>\n",
       "      <td>2019-02-01 00:36:14.5340</td>\n",
       "      <td>62.0</td>\n",
       "      <td>Victoria Manalo Draves Park</td>\n",
       "      <td>37.777791</td>\n",
       "      <td>-122.406432</td>\n",
       "      <td>59.0</td>\n",
       "      <td>S Van Ness Ave at Market St</td>\n",
       "      <td>37.774814</td>\n",
       "      <td>-122.418954</td>\n",
       "      <td>5531</td>\n",
       "      <td>Subscriber</td>\n",
       "      <td>1988.0</td>\n",
       "      <td>Male</td>\n",
       "      <td>No</td>\n",
       "    </tr>\n",
       "    <tr>\n",
       "      <th>183398</th>\n",
       "      <td>1019</td>\n",
       "      <td>2019-02-01 00:16:59.1550</td>\n",
       "      <td>2019-02-01 00:33:58.5900</td>\n",
       "      <td>339.0</td>\n",
       "      <td>Jackson St at 11th St</td>\n",
       "      <td>37.800002</td>\n",
       "      <td>-122.266438</td>\n",
       "      <td>46.0</td>\n",
       "      <td>San Antonio Park</td>\n",
       "      <td>37.790140</td>\n",
       "      <td>-122.242373</td>\n",
       "      <td>3233</td>\n",
       "      <td>Subscriber</td>\n",
       "      <td>1982.0</td>\n",
       "      <td>Male</td>\n",
       "      <td>No</td>\n",
       "    </tr>\n",
       "    <tr>\n",
       "      <th>183399</th>\n",
       "      <td>958</td>\n",
       "      <td>2019-02-01 00:12:24.2470</td>\n",
       "      <td>2019-02-01 00:28:22.7380</td>\n",
       "      <td>67.0</td>\n",
       "      <td>San Francisco Caltrain Station 2  (Townsend St...</td>\n",
       "      <td>37.776639</td>\n",
       "      <td>-122.395526</td>\n",
       "      <td>58.0</td>\n",
       "      <td>Market St at 10th St</td>\n",
       "      <td>37.776619</td>\n",
       "      <td>-122.417385</td>\n",
       "      <td>3392</td>\n",
       "      <td>Subscriber</td>\n",
       "      <td>1993.0</td>\n",
       "      <td>Male</td>\n",
       "      <td>No</td>\n",
       "    </tr>\n",
       "    <tr>\n",
       "      <th>183400</th>\n",
       "      <td>250</td>\n",
       "      <td>2019-02-01 00:23:52.6110</td>\n",
       "      <td>2019-02-01 00:28:02.6790</td>\n",
       "      <td>356.0</td>\n",
       "      <td>Valencia St at Clinton Park</td>\n",
       "      <td>37.769188</td>\n",
       "      <td>-122.422285</td>\n",
       "      <td>58.0</td>\n",
       "      <td>Market St at 10th St</td>\n",
       "      <td>37.776619</td>\n",
       "      <td>-122.417385</td>\n",
       "      <td>4962</td>\n",
       "      <td>Subscriber</td>\n",
       "      <td>1984.0</td>\n",
       "      <td>Male</td>\n",
       "      <td>No</td>\n",
       "    </tr>\n",
       "    <tr>\n",
       "      <th>183401</th>\n",
       "      <td>383</td>\n",
       "      <td>2019-02-01 00:16:48.0620</td>\n",
       "      <td>2019-02-01 00:23:11.2010</td>\n",
       "      <td>186.0</td>\n",
       "      <td>Lakeside Dr at 14th St</td>\n",
       "      <td>37.801319</td>\n",
       "      <td>-122.262642</td>\n",
       "      <td>181.0</td>\n",
       "      <td>Grand Ave at Webster St</td>\n",
       "      <td>37.811377</td>\n",
       "      <td>-122.265192</td>\n",
       "      <td>4505</td>\n",
       "      <td>Subscriber</td>\n",
       "      <td>1991.0</td>\n",
       "      <td>Male</td>\n",
       "      <td>Yes</td>\n",
       "    </tr>\n",
       "    <tr>\n",
       "      <th>183403</th>\n",
       "      <td>249</td>\n",
       "      <td>2019-02-01 00:15:12.0670</td>\n",
       "      <td>2019-02-01 00:19:21.6990</td>\n",
       "      <td>256.0</td>\n",
       "      <td>Hearst Ave at Euclid Ave</td>\n",
       "      <td>37.875112</td>\n",
       "      <td>-122.260553</td>\n",
       "      <td>247.0</td>\n",
       "      <td>Fulton St at Bancroft Way</td>\n",
       "      <td>37.867789</td>\n",
       "      <td>-122.265896</td>\n",
       "      <td>4642</td>\n",
       "      <td>Subscriber</td>\n",
       "      <td>2000.0</td>\n",
       "      <td>Male</td>\n",
       "      <td>No</td>\n",
       "    </tr>\n",
       "    <tr>\n",
       "      <th>183404</th>\n",
       "      <td>256</td>\n",
       "      <td>2019-02-01 00:12:50.5540</td>\n",
       "      <td>2019-02-01 00:17:07.3620</td>\n",
       "      <td>241.0</td>\n",
       "      <td>Ashby BART Station</td>\n",
       "      <td>37.852477</td>\n",
       "      <td>-122.270213</td>\n",
       "      <td>248.0</td>\n",
       "      <td>Telegraph Ave at Ashby Ave</td>\n",
       "      <td>37.855956</td>\n",
       "      <td>-122.259795</td>\n",
       "      <td>4845</td>\n",
       "      <td>Subscriber</td>\n",
       "      <td>1980.0</td>\n",
       "      <td>Male</td>\n",
       "      <td>Yes</td>\n",
       "    </tr>\n",
       "    <tr>\n",
       "      <th>183405</th>\n",
       "      <td>111</td>\n",
       "      <td>2019-02-01 00:14:49.8740</td>\n",
       "      <td>2019-02-01 00:16:41.3010</td>\n",
       "      <td>324.0</td>\n",
       "      <td>Union Square (Powell St at Post St)</td>\n",
       "      <td>37.788300</td>\n",
       "      <td>-122.408531</td>\n",
       "      <td>19.0</td>\n",
       "      <td>Post St at Kearny St</td>\n",
       "      <td>37.788975</td>\n",
       "      <td>-122.403452</td>\n",
       "      <td>4832</td>\n",
       "      <td>Subscriber</td>\n",
       "      <td>1984.0</td>\n",
       "      <td>Male</td>\n",
       "      <td>No</td>\n",
       "    </tr>\n",
       "    <tr>\n",
       "      <th>183406</th>\n",
       "      <td>706</td>\n",
       "      <td>2019-02-01 00:04:40.6160</td>\n",
       "      <td>2019-02-01 00:16:27.0800</td>\n",
       "      <td>138.0</td>\n",
       "      <td>Jersey St at Church St</td>\n",
       "      <td>37.750900</td>\n",
       "      <td>-122.427411</td>\n",
       "      <td>78.0</td>\n",
       "      <td>Folsom St at 9th St</td>\n",
       "      <td>37.773717</td>\n",
       "      <td>-122.411647</td>\n",
       "      <td>5017</td>\n",
       "      <td>Subscriber</td>\n",
       "      <td>1988.0</td>\n",
       "      <td>Male</td>\n",
       "      <td>No</td>\n",
       "    </tr>\n",
       "    <tr>\n",
       "      <th>183407</th>\n",
       "      <td>480</td>\n",
       "      <td>2019-02-01 00:04:49.7240</td>\n",
       "      <td>2019-02-01 00:12:50.0340</td>\n",
       "      <td>27.0</td>\n",
       "      <td>Beale St at Harrison St</td>\n",
       "      <td>37.788059</td>\n",
       "      <td>-122.391865</td>\n",
       "      <td>324.0</td>\n",
       "      <td>Union Square (Powell St at Post St)</td>\n",
       "      <td>37.788300</td>\n",
       "      <td>-122.408531</td>\n",
       "      <td>4832</td>\n",
       "      <td>Subscriber</td>\n",
       "      <td>1996.0</td>\n",
       "      <td>Male</td>\n",
       "      <td>No</td>\n",
       "    </tr>\n",
       "    <tr>\n",
       "      <th>183408</th>\n",
       "      <td>313</td>\n",
       "      <td>2019-02-01 00:05:34.7440</td>\n",
       "      <td>2019-02-01 00:10:48.5020</td>\n",
       "      <td>21.0</td>\n",
       "      <td>Montgomery St BART Station (Market St at 2nd St)</td>\n",
       "      <td>37.789625</td>\n",
       "      <td>-122.400811</td>\n",
       "      <td>66.0</td>\n",
       "      <td>3rd St at Townsend St</td>\n",
       "      <td>37.778742</td>\n",
       "      <td>-122.392741</td>\n",
       "      <td>4960</td>\n",
       "      <td>Subscriber</td>\n",
       "      <td>1984.0</td>\n",
       "      <td>Male</td>\n",
       "      <td>No</td>\n",
       "    </tr>\n",
       "    <tr>\n",
       "      <th>183409</th>\n",
       "      <td>141</td>\n",
       "      <td>2019-02-01 00:06:05.5490</td>\n",
       "      <td>2019-02-01 00:08:27.2200</td>\n",
       "      <td>278.0</td>\n",
       "      <td>The Alameda at Bush St</td>\n",
       "      <td>37.331932</td>\n",
       "      <td>-121.904888</td>\n",
       "      <td>277.0</td>\n",
       "      <td>Morrison Ave at Julian St</td>\n",
       "      <td>37.333658</td>\n",
       "      <td>-121.908586</td>\n",
       "      <td>3824</td>\n",
       "      <td>Subscriber</td>\n",
       "      <td>1990.0</td>\n",
       "      <td>Male</td>\n",
       "      <td>Yes</td>\n",
       "    </tr>\n",
       "    <tr>\n",
       "      <th>183410</th>\n",
       "      <td>139</td>\n",
       "      <td>2019-02-01 00:05:34.3600</td>\n",
       "      <td>2019-02-01 00:07:54.2870</td>\n",
       "      <td>220.0</td>\n",
       "      <td>San Pablo Ave at MLK Jr Way</td>\n",
       "      <td>37.811351</td>\n",
       "      <td>-122.273422</td>\n",
       "      <td>216.0</td>\n",
       "      <td>San Pablo Ave at 27th St</td>\n",
       "      <td>37.817827</td>\n",
       "      <td>-122.275698</td>\n",
       "      <td>5095</td>\n",
       "      <td>Subscriber</td>\n",
       "      <td>1988.0</td>\n",
       "      <td>Male</td>\n",
       "      <td>No</td>\n",
       "    </tr>\n",
       "    <tr>\n",
       "      <th>183411</th>\n",
       "      <td>271</td>\n",
       "      <td>2019-02-01 00:00:20.6360</td>\n",
       "      <td>2019-02-01 00:04:52.0580</td>\n",
       "      <td>24.0</td>\n",
       "      <td>Spear St at Folsom St</td>\n",
       "      <td>37.789677</td>\n",
       "      <td>-122.390428</td>\n",
       "      <td>37.0</td>\n",
       "      <td>2nd St at Folsom St</td>\n",
       "      <td>37.785000</td>\n",
       "      <td>-122.395936</td>\n",
       "      <td>1057</td>\n",
       "      <td>Subscriber</td>\n",
       "      <td>1989.0</td>\n",
       "      <td>Male</td>\n",
       "      <td>No</td>\n",
       "    </tr>\n",
       "  </tbody>\n",
       "</table>\n",
       "<p>174952 rows × 16 columns</p>\n",
       "</div>"
      ],
      "text/plain": [
       "        duration_sec                start_time                  end_time  \\\n",
       "0              52185  2019-02-28 17:32:10.1450  2019-03-01 08:01:55.9750   \n",
       "2              61854  2019-02-28 12:13:13.2180  2019-03-01 05:24:08.1460   \n",
       "3              36490  2019-02-28 17:54:26.0100  2019-03-01 04:02:36.8420   \n",
       "4               1585  2019-02-28 23:54:18.5490  2019-03-01 00:20:44.0740   \n",
       "5               1793  2019-02-28 23:49:58.6320  2019-03-01 00:19:51.7600   \n",
       "6               1147  2019-02-28 23:55:35.1040  2019-03-01 00:14:42.5880   \n",
       "7               1615  2019-02-28 23:41:06.7660  2019-03-01 00:08:02.7560   \n",
       "8               1570  2019-02-28 23:41:48.7900  2019-03-01 00:07:59.7150   \n",
       "9               1049  2019-02-28 23:49:47.6990  2019-03-01 00:07:17.0250   \n",
       "10               458  2019-02-28 23:57:57.2110  2019-03-01 00:05:35.4350   \n",
       "11               506  2019-02-28 23:56:55.5400  2019-03-01 00:05:21.7330   \n",
       "12              1176  2019-02-28 23:45:12.6510  2019-03-01 00:04:49.1840   \n",
       "14               395  2019-02-28 23:56:26.8480  2019-03-01 00:03:01.9470   \n",
       "15               208  2019-02-28 23:59:18.5480  2019-03-01 00:02:47.2280   \n",
       "16               548  2019-02-28 23:50:41.6070  2019-02-28 23:59:49.9530   \n",
       "17               674  2019-02-28 23:48:25.0950  2019-02-28 23:59:40.0920   \n",
       "18               557  2019-02-28 23:49:01.8510  2019-02-28 23:58:19.8090   \n",
       "19               874  2019-02-28 23:43:05.1830  2019-02-28 23:57:39.7960   \n",
       "20               417  2019-02-28 23:50:38.2390  2019-02-28 23:57:35.8520   \n",
       "21               414  2019-02-28 23:50:26.8790  2019-02-28 23:57:21.1300   \n",
       "22               743  2019-02-28 23:44:56.4390  2019-02-28 23:57:20.2120   \n",
       "23               367  2019-02-28 23:51:06.0140  2019-02-28 23:57:13.3120   \n",
       "24               252  2019-02-28 23:52:51.1640  2019-02-28 23:57:03.9760   \n",
       "25               360  2019-02-28 23:50:31.4310  2019-02-28 23:56:31.8910   \n",
       "26               385  2019-02-28 23:49:24.3990  2019-02-28 23:55:50.2840   \n",
       "27               408  2019-02-28 23:48:08.2820  2019-02-28 23:54:56.9300   \n",
       "29               629  2019-02-28 23:43:48.6580  2019-02-28 23:54:18.2540   \n",
       "30               163  2019-02-28 23:50:45.6980  2019-02-28 23:53:29.5690   \n",
       "31               223  2019-02-28 23:49:27.0270  2019-02-28 23:53:10.5350   \n",
       "32               405  2019-02-28 23:45:39.2340  2019-02-28 23:52:24.8500   \n",
       "...              ...                       ...                       ...   \n",
       "183381           426  2019-02-01 00:48:54.1590  2019-02-01 00:56:00.4740   \n",
       "183382           961  2019-02-01 00:38:29.9040  2019-02-01 00:54:31.7320   \n",
       "183383           434  2019-02-01 00:47:11.6530  2019-02-01 00:54:26.3050   \n",
       "183384           184  2019-02-01 00:50:41.5790  2019-02-01 00:53:46.1240   \n",
       "183385           400  2019-02-01 00:46:47.2760  2019-02-01 00:53:27.5960   \n",
       "183386           425  2019-02-01 00:42:20.4720  2019-02-01 00:49:25.5150   \n",
       "183387           598  2019-02-01 00:39:12.6840  2019-02-01 00:49:10.7910   \n",
       "183388           490  2019-02-01 00:39:53.1120  2019-02-01 00:48:03.3380   \n",
       "183389           184  2019-02-01 00:43:56.5560  2019-02-01 00:47:01.0090   \n",
       "183390           232  2019-02-01 00:40:00.0350  2019-02-01 00:43:52.8800   \n",
       "183391           269  2019-02-01 00:37:47.5270  2019-02-01 00:42:17.0600   \n",
       "183392          1289  2019-02-01 00:19:45.6410  2019-02-01 00:41:15.5580   \n",
       "183393           155  2019-02-01 00:37:26.3680  2019-02-01 00:40:01.5760   \n",
       "183394           720  2019-02-01 00:27:33.8340  2019-02-01 00:39:34.2330   \n",
       "183395            95  2019-02-01 00:37:23.1150  2019-02-01 00:38:58.3460   \n",
       "183396           576  2019-02-01 00:27:06.5030  2019-02-01 00:36:43.4520   \n",
       "183397           438  2019-02-01 00:28:56.1010  2019-02-01 00:36:14.5340   \n",
       "183398          1019  2019-02-01 00:16:59.1550  2019-02-01 00:33:58.5900   \n",
       "183399           958  2019-02-01 00:12:24.2470  2019-02-01 00:28:22.7380   \n",
       "183400           250  2019-02-01 00:23:52.6110  2019-02-01 00:28:02.6790   \n",
       "183401           383  2019-02-01 00:16:48.0620  2019-02-01 00:23:11.2010   \n",
       "183403           249  2019-02-01 00:15:12.0670  2019-02-01 00:19:21.6990   \n",
       "183404           256  2019-02-01 00:12:50.5540  2019-02-01 00:17:07.3620   \n",
       "183405           111  2019-02-01 00:14:49.8740  2019-02-01 00:16:41.3010   \n",
       "183406           706  2019-02-01 00:04:40.6160  2019-02-01 00:16:27.0800   \n",
       "183407           480  2019-02-01 00:04:49.7240  2019-02-01 00:12:50.0340   \n",
       "183408           313  2019-02-01 00:05:34.7440  2019-02-01 00:10:48.5020   \n",
       "183409           141  2019-02-01 00:06:05.5490  2019-02-01 00:08:27.2200   \n",
       "183410           139  2019-02-01 00:05:34.3600  2019-02-01 00:07:54.2870   \n",
       "183411           271  2019-02-01 00:00:20.6360  2019-02-01 00:04:52.0580   \n",
       "\n",
       "        start_station_id                                 start_station_name  \\\n",
       "0                   21.0   Montgomery St BART Station (Market St at 2nd St)   \n",
       "2                   86.0                            Market St at Dolores St   \n",
       "3                  375.0                            Grove St at Masonic Ave   \n",
       "4                    7.0                                Frank H Ogawa Plaza   \n",
       "5                   93.0                       4th St at Mission Bay Blvd S   \n",
       "6                  300.0                               Palm St at Willow St   \n",
       "7                   10.0                         Washington St at Kearny St   \n",
       "8                   10.0                         Washington St at Kearny St   \n",
       "9                   19.0                               Post St at Kearny St   \n",
       "10                 370.0                                Jones St at Post St   \n",
       "11                  44.0  Civic Center/UN Plaza BART Station (Market St ...   \n",
       "12                 127.0                             Valencia St at 21st St   \n",
       "14                 243.0                        Bancroft Way at College Ave   \n",
       "15                 349.0                               Howard St at Mary St   \n",
       "16                 131.0                              22nd St at Dolores St   \n",
       "17                  74.0                              Laguna St at Hayes St   \n",
       "18                 321.0                                   5th St at Folsom   \n",
       "19                 180.0                           Telegraph Ave at 23rd St   \n",
       "20                  72.0                                Page St at Scott St   \n",
       "21                 163.0                          Lake Merritt BART Station   \n",
       "22                 370.0                                Jones St at Post St   \n",
       "23                 243.0                        Bancroft Way at College Ave   \n",
       "24                 190.0                                 West St at 40th St   \n",
       "25                 163.0                          Lake Merritt BART Station   \n",
       "26                   6.0                      The Embarcadero at Sansome St   \n",
       "27                  78.0                                Folsom St at 9th St   \n",
       "29                 258.0                        University Ave at Oxford St   \n",
       "30                 238.0                       MLK Jr Way at University Ave   \n",
       "31                  28.0                       The Embarcadero at Bryant St   \n",
       "32                 109.0                             17th St at Valencia St   \n",
       "...                  ...                                                ...   \n",
       "183381             230.0                            14th St at Mandela Pkwy   \n",
       "183382              95.0                              Sanchez St at 15th St   \n",
       "183383             274.0                            Oregon St at Adeline St   \n",
       "183384             316.0                          San Salvador St at 1st St   \n",
       "183385             220.0                        San Pablo Ave at MLK Jr Way   \n",
       "183386             239.0                      Bancroft Way at Telegraph Ave   \n",
       "183387             239.0                      Bancroft Way at Telegraph Ave   \n",
       "183388              61.0                                Howard St at 8th St   \n",
       "183389              66.0                              3rd St at Townsend St   \n",
       "183390             239.0                      Bancroft Way at Telegraph Ave   \n",
       "183391             119.0                                  18th St at Noe St   \n",
       "183392               8.0                      The Embarcadero at Vallejo St   \n",
       "183393             116.0                          Mississippi St at 17th St   \n",
       "183394              26.0                                1st St at Folsom St   \n",
       "183395             276.0                           Julian St at The Alameda   \n",
       "183396             181.0                            Grand Ave at Webster St   \n",
       "183397              62.0                        Victoria Manalo Draves Park   \n",
       "183398             339.0                              Jackson St at 11th St   \n",
       "183399              67.0  San Francisco Caltrain Station 2  (Townsend St...   \n",
       "183400             356.0                        Valencia St at Clinton Park   \n",
       "183401             186.0                             Lakeside Dr at 14th St   \n",
       "183403             256.0                           Hearst Ave at Euclid Ave   \n",
       "183404             241.0                                 Ashby BART Station   \n",
       "183405             324.0                Union Square (Powell St at Post St)   \n",
       "183406             138.0                             Jersey St at Church St   \n",
       "183407              27.0                            Beale St at Harrison St   \n",
       "183408              21.0   Montgomery St BART Station (Market St at 2nd St)   \n",
       "183409             278.0                             The Alameda at Bush St   \n",
       "183410             220.0                        San Pablo Ave at MLK Jr Way   \n",
       "183411              24.0                              Spear St at Folsom St   \n",
       "\n",
       "        start_station_latitude  start_station_longitude  end_station_id  \\\n",
       "0                    37.789625              -122.400811            13.0   \n",
       "2                    37.769305              -122.426826             3.0   \n",
       "3                    37.774836              -122.446546            70.0   \n",
       "4                    37.804562              -122.271738           222.0   \n",
       "5                    37.770407              -122.391198           323.0   \n",
       "6                    37.317298              -121.884995           312.0   \n",
       "7                    37.795393              -122.404770           127.0   \n",
       "8                    37.795393              -122.404770           127.0   \n",
       "9                    37.788975              -122.403452           121.0   \n",
       "10                   37.787327              -122.413278            43.0   \n",
       "11                   37.781074              -122.411738           343.0   \n",
       "12                   37.756708              -122.421025           323.0   \n",
       "14                   37.869360              -122.254337           252.0   \n",
       "15                   37.781010              -122.405666            60.0   \n",
       "16                   37.755000              -122.425728            71.0   \n",
       "17                   37.776435              -122.426244           336.0   \n",
       "18                   37.780146              -122.403071            75.0   \n",
       "19                   37.812678              -122.268773           180.0   \n",
       "20                   37.772406              -122.435650           107.0   \n",
       "21                   37.797320              -122.265320           221.0   \n",
       "22                   37.787327              -122.413278            52.0   \n",
       "23                   37.869360              -122.254337           269.0   \n",
       "24                   37.830223              -122.270950           189.0   \n",
       "25                   37.797320              -122.265320           196.0   \n",
       "26                   37.804770              -122.403234            15.0   \n",
       "27                   37.773717              -122.411647            78.0   \n",
       "29                   37.872355              -122.266447           263.0   \n",
       "30                   37.871719              -122.273068           244.0   \n",
       "31                   37.787168              -122.388098            50.0   \n",
       "32                   37.763316              -122.421904            73.0   \n",
       "...                        ...                      ...             ...   \n",
       "183381               37.810743              -122.291415           213.0   \n",
       "183382               37.766219              -122.431060           324.0   \n",
       "183383               37.857567              -122.267558           244.0   \n",
       "183384               37.330165              -121.885831           298.0   \n",
       "183385               37.811351              -122.273422           337.0   \n",
       "183386               37.868813              -122.258764           245.0   \n",
       "183387               37.868813              -122.258764           245.0   \n",
       "183388               37.776513              -122.411306            81.0   \n",
       "183389               37.778742              -122.392741            47.0   \n",
       "183390               37.868813              -122.258764           266.0   \n",
       "183391               37.761047              -122.432642            85.0   \n",
       "183392               37.799953              -122.398525           350.0   \n",
       "183393               37.764802              -122.394771            93.0   \n",
       "183394               37.787290              -122.394380            96.0   \n",
       "183395               37.332233              -121.912517           277.0   \n",
       "183396               37.811377              -122.265192           212.0   \n",
       "183397               37.777791              -122.406432            59.0   \n",
       "183398               37.800002              -122.266438            46.0   \n",
       "183399               37.776639              -122.395526            58.0   \n",
       "183400               37.769188              -122.422285            58.0   \n",
       "183401               37.801319              -122.262642           181.0   \n",
       "183403               37.875112              -122.260553           247.0   \n",
       "183404               37.852477              -122.270213           248.0   \n",
       "183405               37.788300              -122.408531            19.0   \n",
       "183406               37.750900              -122.427411            78.0   \n",
       "183407               37.788059              -122.391865           324.0   \n",
       "183408               37.789625              -122.400811            66.0   \n",
       "183409               37.331932              -121.904888           277.0   \n",
       "183410               37.811351              -122.273422           216.0   \n",
       "183411               37.789677              -122.390428            37.0   \n",
       "\n",
       "                                         end_station_name  \\\n",
       "0                          Commercial St at Montgomery St   \n",
       "2            Powell St BART Station (Market St at 4th St)   \n",
       "3                                  Central Ave at Fell St   \n",
       "4                                   10th Ave at E 15th St   \n",
       "5                                      Broadway at Kearny   \n",
       "6                                San Jose Diridon Station   \n",
       "7                                  Valencia St at 21st St   \n",
       "8                                  Valencia St at 21st St   \n",
       "9                                      Mission Playground   \n",
       "10      San Francisco Public Library (Grove St at Hyde...   \n",
       "11                                    Bryant St at 2nd St   \n",
       "12                                     Broadway at Kearny   \n",
       "14                           Channing Way at Shattuck Ave   \n",
       "15                                   8th St at Ringold St   \n",
       "16                                 Broderick St at Oak St   \n",
       "17                            Potrero Ave and Mariposa St   \n",
       "18                               Market St at Franklin St   \n",
       "19                               Telegraph Ave at 23rd St   \n",
       "20                                  17th St at Dolores St   \n",
       "21              6th Ave at E 12th St (Temporary Location)   \n",
       "22                              McAllister St at Baker St   \n",
       "23                           Telegraph Ave at Carleton St   \n",
       "24                                    Genoa St at 55th St   \n",
       "25                                Grand Ave at Perkins St   \n",
       "26      San Francisco Ferry Building (Harry Bridges Pl...   \n",
       "27                                    Folsom St at 9th St   \n",
       "29                          Channing Way at San Pablo Ave   \n",
       "30                             Shattuck Ave at Hearst Ave   \n",
       "31                                  2nd St at Townsend St   \n",
       "32                                 Pierce St at Haight St   \n",
       "...                                                   ...   \n",
       "183381                              32nd St at Adeline St   \n",
       "183382                Union Square (Powell St at Post St)   \n",
       "183383                         Shattuck Ave at Hearst Ave   \n",
       "183384                                   Oak St at 1st St   \n",
       "183385                              Webster St at 19th St   \n",
       "183386                             Downtown Berkeley BART   \n",
       "183387                             Downtown Berkeley BART   \n",
       "183388                                 Berry St at 4th St   \n",
       "183389                              4th St at Harrison St   \n",
       "183390                             Parker St at Fulton St   \n",
       "183391                            Church St at Duboce Ave   \n",
       "183392                               8th St at Brannan St   \n",
       "183393                       4th St at Mission Bay Blvd S   \n",
       "183394                              Dolores St at 15th St   \n",
       "183395                          Morrison Ave at Julian St   \n",
       "183396                                      Mosswood Park   \n",
       "183397                        S Van Ness Ave at Market St   \n",
       "183398                                   San Antonio Park   \n",
       "183399                               Market St at 10th St   \n",
       "183400                               Market St at 10th St   \n",
       "183401                            Grand Ave at Webster St   \n",
       "183403                          Fulton St at Bancroft Way   \n",
       "183404                         Telegraph Ave at Ashby Ave   \n",
       "183405                               Post St at Kearny St   \n",
       "183406                                Folsom St at 9th St   \n",
       "183407                Union Square (Powell St at Post St)   \n",
       "183408                              3rd St at Townsend St   \n",
       "183409                          Morrison Ave at Julian St   \n",
       "183410                           San Pablo Ave at 27th St   \n",
       "183411                                2nd St at Folsom St   \n",
       "\n",
       "        end_station_latitude  end_station_longitude  bike_id   user_type  \\\n",
       "0                  37.794231            -122.402923     4902    Customer   \n",
       "2                  37.786375            -122.404904     5905    Customer   \n",
       "3                  37.773311            -122.444293     6638  Subscriber   \n",
       "4                  37.792714            -122.248780     4898  Subscriber   \n",
       "5                  37.798014            -122.405950     5200  Subscriber   \n",
       "6                  37.329732            -121.901782     3803  Subscriber   \n",
       "7                  37.756708            -122.421025     6329  Subscriber   \n",
       "8                  37.756708            -122.421025     6548  Subscriber   \n",
       "9                  37.759210            -122.421339     6488  Subscriber   \n",
       "10                 37.778768            -122.415929     5318  Subscriber   \n",
       "11                 37.783172            -122.393572     5848  Subscriber   \n",
       "12                 37.798014            -122.405950     5328    Customer   \n",
       "14                 37.865847            -122.267443     4786  Subscriber   \n",
       "15                 37.774520            -122.409449     6361  Subscriber   \n",
       "16                 37.773063            -122.439078     6572  Subscriber   \n",
       "17                 37.763281            -122.407377     5343  Subscriber   \n",
       "18                 37.773793            -122.421239     5854  Subscriber   \n",
       "19                 37.812678            -122.268773     5629    Customer   \n",
       "20                 37.763015            -122.426497     4999  Subscriber   \n",
       "21                 37.794396            -122.253842     6007  Subscriber   \n",
       "22                 37.777416            -122.441838     5479  Subscriber   \n",
       "23                 37.862320            -122.258801     1804  Subscriber   \n",
       "24                 37.839649            -122.271756     5678  Subscriber   \n",
       "25                 37.808894            -122.256460     6240  Subscriber   \n",
       "26                 37.795392            -122.394203     6531    Customer   \n",
       "27                 37.773717            -122.411647     5410  Subscriber   \n",
       "29                 37.862827            -122.290230      363  Subscriber   \n",
       "30                 37.873676            -122.268487     5669  Subscriber   \n",
       "31                 37.780526            -122.390288     6267    Customer   \n",
       "32                 37.771793            -122.433708     5130  Subscriber   \n",
       "...                      ...                    ...      ...         ...   \n",
       "183381             37.823847            -122.281193     3535  Subscriber   \n",
       "183382             37.788300            -122.408531     1565  Subscriber   \n",
       "183383             37.873676            -122.268487     4541    Customer   \n",
       "183384             37.322125            -121.881090     4044  Subscriber   \n",
       "183385             37.806970            -122.266588     3487  Subscriber   \n",
       "183386             37.870139            -122.268422     1377  Subscriber   \n",
       "183387             37.870139            -122.268422     2055  Subscriber   \n",
       "183388             37.775880            -122.393170     5411  Subscriber   \n",
       "183389             37.780955            -122.399749     4960  Subscriber   \n",
       "183390             37.862464            -122.264791     3756  Subscriber   \n",
       "183391             37.770083            -122.429156     5540  Subscriber   \n",
       "183392             37.771431            -122.405787     3506  Subscriber   \n",
       "183393             37.770407            -122.391198     5406  Subscriber   \n",
       "183394             37.766210            -122.426614     5331  Subscriber   \n",
       "183395             37.333658            -121.908586     4299  Subscriber   \n",
       "183396             37.824893            -122.260437     3561  Subscriber   \n",
       "183397             37.774814            -122.418954     5531  Subscriber   \n",
       "183398             37.790140            -122.242373     3233  Subscriber   \n",
       "183399             37.776619            -122.417385     3392  Subscriber   \n",
       "183400             37.776619            -122.417385     4962  Subscriber   \n",
       "183401             37.811377            -122.265192     4505  Subscriber   \n",
       "183403             37.867789            -122.265896     4642  Subscriber   \n",
       "183404             37.855956            -122.259795     4845  Subscriber   \n",
       "183405             37.788975            -122.403452     4832  Subscriber   \n",
       "183406             37.773717            -122.411647     5017  Subscriber   \n",
       "183407             37.788300            -122.408531     4832  Subscriber   \n",
       "183408             37.778742            -122.392741     4960  Subscriber   \n",
       "183409             37.333658            -121.908586     3824  Subscriber   \n",
       "183410             37.817827            -122.275698     5095  Subscriber   \n",
       "183411             37.785000            -122.395936     1057  Subscriber   \n",
       "\n",
       "        member_birth_year member_gender bike_share_for_all_trip  \n",
       "0                  1984.0          Male                      No  \n",
       "2                  1972.0          Male                      No  \n",
       "3                  1989.0         Other                      No  \n",
       "4                  1974.0          Male                     Yes  \n",
       "5                  1959.0          Male                      No  \n",
       "6                  1983.0        Female                      No  \n",
       "7                  1989.0          Male                      No  \n",
       "8                  1988.0         Other                      No  \n",
       "9                  1992.0          Male                      No  \n",
       "10                 1996.0        Female                     Yes  \n",
       "11                 1993.0          Male                      No  \n",
       "12                 1990.0          Male                      No  \n",
       "14                 1988.0          Male                      No  \n",
       "15                 1993.0          Male                     Yes  \n",
       "16                 1981.0          Male                      No  \n",
       "17                 1975.0          Male                      No  \n",
       "18                 1990.0          Male                      No  \n",
       "19                 1978.0          Male                      No  \n",
       "20                 1983.0          Male                      No  \n",
       "21                 1984.0          Male                     Yes  \n",
       "22                 1991.0        Female                      No  \n",
       "23                 1997.0        Female                      No  \n",
       "24                 1975.0          Male                      No  \n",
       "25                 1986.0          Male                      No  \n",
       "26                 2000.0          Male                      No  \n",
       "27                 1982.0          Male                      No  \n",
       "29                 1995.0          Male                      No  \n",
       "30                 1996.0          Male                     Yes  \n",
       "31                 1993.0          Male                      No  \n",
       "32                 1980.0        Female                      No  \n",
       "...                   ...           ...                     ...  \n",
       "183381             1997.0         Other                     Yes  \n",
       "183382             1988.0          Male                      No  \n",
       "183383             1997.0          Male                      No  \n",
       "183384             1991.0          Male                      No  \n",
       "183385             1945.0          Male                     Yes  \n",
       "183386             1998.0          Male                     Yes  \n",
       "183387             1999.0          Male                     Yes  \n",
       "183388             1927.0          Male                      No  \n",
       "183389             1985.0         Other                      No  \n",
       "183390             1999.0          Male                      No  \n",
       "183391             1980.0          Male                     Yes  \n",
       "183392             1993.0          Male                      No  \n",
       "183393             1985.0          Male                      No  \n",
       "183394             1975.0          Male                      No  \n",
       "183395             1993.0          Male                     Yes  \n",
       "183396             1991.0          Male                     Yes  \n",
       "183397             1988.0          Male                      No  \n",
       "183398             1982.0          Male                      No  \n",
       "183399             1993.0          Male                      No  \n",
       "183400             1984.0          Male                      No  \n",
       "183401             1991.0          Male                     Yes  \n",
       "183403             2000.0          Male                      No  \n",
       "183404             1980.0          Male                     Yes  \n",
       "183405             1984.0          Male                      No  \n",
       "183406             1988.0          Male                      No  \n",
       "183407             1996.0          Male                      No  \n",
       "183408             1984.0          Male                      No  \n",
       "183409             1990.0          Male                     Yes  \n",
       "183410             1988.0          Male                      No  \n",
       "183411             1989.0          Male                      No  \n",
       "\n",
       "[174952 rows x 16 columns]"
      ]
     },
     "execution_count": 12,
     "metadata": {},
     "output_type": "execute_result"
    }
   ],
   "source": [
    "bikeshare1 = bikeshare.dropna()\n",
    "bikeshare1"
   ]
  },
  {
   "cell_type": "markdown",
   "metadata": {},
   "source": [
    "## TEST"
   ]
  },
  {
   "cell_type": "code",
   "execution_count": 13,
   "metadata": {},
   "outputs": [
    {
     "data": {
      "text/plain": [
       "duration_sec               0\n",
       "start_time                 0\n",
       "end_time                   0\n",
       "start_station_id           0\n",
       "start_station_name         0\n",
       "start_station_latitude     0\n",
       "start_station_longitude    0\n",
       "end_station_id             0\n",
       "end_station_name           0\n",
       "end_station_latitude       0\n",
       "end_station_longitude      0\n",
       "bike_id                    0\n",
       "user_type                  0\n",
       "member_birth_year          0\n",
       "member_gender              0\n",
       "bike_share_for_all_trip    0\n",
       "dtype: int64"
      ]
     },
     "execution_count": 13,
     "metadata": {},
     "output_type": "execute_result"
    }
   ],
   "source": [
    "bikeshare1.isna().sum()"
   ]
  },
  {
   "cell_type": "markdown",
   "metadata": {},
   "source": [
    "### Structure of bikeshare dataset?\n",
    "\n",
    "Bikeshare data set contains 16 columns and 183412 rows\n",
    "\n",
    "### The main feature(s) of interest in bikeshare dataset?\n",
    "\n",
    "The main features of interest includes;\n",
    "\n",
    "- How many user_type ride the bike?\n",
    "- What is the proportion of each gender that were involved in bike sharing?\n",
    "- How many used bike for all trips?\n",
    "- What is the distribution of the duration sec?\n",
    "- What is the distribution of the start and end station_latitude?\n",
    "- What is the distribution of the bike id?\n",
    "- Which birth_year used bike_sharing the most?\n",
    "\n",
    "### Features in the dataset that will support my investigation into the feature(s) of interest?\n",
    "\n",
    "- duration_sec\n",
    "- user_type\n",
    "- member_gender\n",
    "- member_birth_year\n",
    "- bike_share_for_all_trip\n",
    "- start_station_latitude\n",
    "- end_station_latitude"
   ]
  },
  {
   "cell_type": "markdown",
   "metadata": {},
   "source": [
    "## QUESTION\n",
    "How many user_type ride the bike?"
   ]
  },
  {
   "cell_type": "markdown",
   "metadata": {},
   "source": [
    "## CODE"
   ]
  },
  {
   "cell_type": "code",
   "execution_count": 15,
   "metadata": {},
   "outputs": [],
   "source": [
    "## setting the base color for my charts to avoid multiple colors\n",
    "base_color = sb.color_palette()[0]"
   ]
  },
  {
   "cell_type": "code",
   "execution_count": 16,
   "metadata": {},
   "outputs": [
    {
     "data": {
      "text/plain": [
       "Text(0.5,1,'COUNTS OF EACH USER_TYPE')"
      ]
     },
     "execution_count": 16,
     "metadata": {},
     "output_type": "execute_result"
    },
    {
     "data": {
      "image/png": "[encoded data removed]",
      "text/plain": [
       "<matplotlib.figure.Figure at 0x7f425c51c630>"
      ]
     },
     "metadata": {
      "needs_background": "light"
     },
     "output_type": "display_data"
    }
   ],
   "source": [
    "## To arrange my bars in decreasing order\n",
    "gen_order = bikeshare1['user_type'].value_counts().index\n",
    "## plotting the bars\n",
    "sb.countplot(data=bikeshare1, x='user_type', color=base_color, order=gen_order);\n",
    "plt.title('COUNTS OF EACH USER_TYPE')"
   ]
  },
  {
   "cell_type": "markdown",
   "metadata": {},
   "source": [
    "## OBSERVATION\n",
    "\n",
    "The bar chart shows that there are more subscribers to the bike sharing scheme than there are customers. Could this mean that subscribers are the daily users. We will find out."
   ]
  },
  {
   "cell_type": "markdown",
   "metadata": {},
   "source": [
    "## QUESTION\n",
    "\n",
    "What is the proportion of each gender that were involved in bike sharing?"
   ]
  },
  {
   "cell_type": "markdown",
   "metadata": {},
   "source": [
    "## CODE"
   ]
  },
  {
   "cell_type": "code",
   "execution_count": 17,
   "metadata": {},
   "outputs": [
    {
     "data": {
      "text/plain": [
       "Text(0.5,1,'Proportion of each gender that were involved in bike sharing')"
      ]
     },
     "execution_count": 17,
     "metadata": {},
     "output_type": "execute_result"
    },
    {
     "data": {
      "image/png": "[encoded data removed]",
      "text/plain": [
       "<matplotlib.figure.Figure at 0x7f425c51c748>"
      ]
     },
     "metadata": {
      "needs_background": "light"
     },
     "output_type": "display_data"
    }
   ],
   "source": [
    "## arranging the bars in decreasing order\n",
    "gen_order = bikeshare1['member_gender'].value_counts().index\n",
    "## plotting\n",
    "sb.countplot(data=bikeshare1, x='member_gender', color=base_color, order=gen_order);\n",
    "plt.title('Proportion of each gender that were involved in bike sharing')"
   ]
  },
  {
   "cell_type": "markdown",
   "metadata": {},
   "source": [
    "## OBSERVATION\n",
    "\n",
    "Obviously, the number of males were above 120000, while that of females that were involved in bike sharing were not up to half of male. the counts of population that were not male nor female was appproximately 5000."
   ]
  },
  {
   "cell_type": "markdown",
   "metadata": {},
   "source": [
    "## QUESTION\n",
    "\n",
    "How many used bike for all trips?"
   ]
  },
  {
   "cell_type": "markdown",
   "metadata": {},
   "source": [
    "## CODE"
   ]
  },
  {
   "cell_type": "code",
   "execution_count": 18,
   "metadata": {},
   "outputs": [
    {
     "data": {
      "text/plain": [
       "Text(0.5,1,'Bike usage for all trips')"
      ]
     },
     "execution_count": 18,
     "metadata": {},
     "output_type": "execute_result"
    },
    {
     "data": {
      "image/png": "[encoded data removed]",
      "text/plain": [
       "<matplotlib.figure.Figure at 0x7f425c2830f0>"
      ]
     },
     "metadata": {
      "needs_background": "light"
     },
     "output_type": "display_data"
    }
   ],
   "source": [
    "## plotting\n",
    "sb.countplot(data=bikeshare1, x='bike_share_for_all_trip', color=base_color);\n",
    "plt.title('Bike usage for all trips')"
   ]
  },
  {
   "cell_type": "markdown",
   "metadata": {},
   "source": [
    "## OBSERVATION\n",
    "The chart shows that the proportion of members that used the bike sharing scheme for all trips were not up to 20000. Majority didn't use the scheme for all trips."
   ]
  },
  {
   "cell_type": "markdown",
   "metadata": {},
   "source": [
    "## QUESTION\n",
    "\n",
    "What is the distribution of the duration sec?"
   ]
  },
  {
   "cell_type": "markdown",
   "metadata": {},
   "source": [
    "## CODE"
   ]
  },
  {
   "cell_type": "code",
   "execution_count": 19,
   "metadata": {},
   "outputs": [
    {
     "data": {
      "text/plain": [
       "[61, 10000, 0, 300]"
      ]
     },
     "execution_count": 19,
     "metadata": {},
     "output_type": "execute_result"
    },
    {
     "data": {
      "image/png": "[encoded data removed]",
      "text/plain": [
       "<matplotlib.figure.Figure at 0x7f425c28a208>"
      ]
     },
     "metadata": {
      "needs_background": "light"
     },
     "output_type": "display_data"
    }
   ],
   "source": [
    "## Setting my bin edges for better view of the chart\n",
    "bin_edges = np.arange(0, bikeshare1['duration_sec'].max()+1, 1)\n",
    "## plotting\n",
    "sb.distplot(bikeshare1['duration_sec'], bins = bin_edges, kde = False, hist_kws = {'alpha' : 1})\n",
    "plt.title('distribution of the duration sec')\n",
    "plt.ylabel('counts')\n",
    "x_min = 61\n",
    "x_max = 10000\n",
    "y_min = 0\n",
    "y_max = 300\n",
    "plt.axis([x_min, x_max, y_min, y_max])"
   ]
  },
  {
   "cell_type": "markdown",
   "metadata": {},
   "source": [
    "## OBSERVATION\n",
    "\n",
    "The histogram is skewed to the right. This might indicate that there was an initial success in the bike sharing scheme as more members were involved. This also indicates that the mean was greater than the median, which is greater than the mode. "
   ]
  },
  {
   "cell_type": "markdown",
   "metadata": {},
   "source": [
    "## QUESTION\n",
    "What is the distribution of the start and end station_latitude?"
   ]
  },
  {
   "cell_type": "markdown",
   "metadata": {},
   "source": [
    "## CODE"
   ]
  },
  {
   "cell_type": "code",
   "execution_count": 20,
   "metadata": {},
   "outputs": [
    {
     "data": {
      "text/plain": [
       "Text(0,0.5,'counts')"
      ]
     },
     "execution_count": 20,
     "metadata": {},
     "output_type": "execute_result"
    },
    {
     "data": {
      "image/png": "[encoded data removed]",
      "text/plain": [
       "<matplotlib.figure.Figure at 0x7f425c00e278>"
      ]
     },
     "metadata": {
      "needs_background": "light"
     },
     "output_type": "display_data"
    }
   ],
   "source": [
    "## setting my figsize\n",
    "plt.figure(figsize = [15, 5])\n",
    "## subplot one\n",
    "plt.subplot(1,2,1)\n",
    "bin_edges = np.arange(0, bikeshare1['start_station_latitude'].max()+1, 1)\n",
    "sb.distplot(bikeshare1['start_station_latitude'], bins = bin_edges, kde = False, hist_kws = {'alpha' : 1})\n",
    "plt.title('distribution of the start_station_latitude')\n",
    "plt.ylabel('counts')\n",
    "## subplot two\n",
    "plt.subplot(1,2,2)\n",
    "bin_edges = np.arange(0, bikeshare1['end_station_latitude'].max()+1, 1)\n",
    "sb.distplot(bikeshare1['end_station_latitude'], bins = bin_edges, kde = False, hist_kws = {'alpha' : 1})\n",
    "plt.title('distribution of the end_latitude')\n",
    "plt.ylabel('counts')\n"
   ]
  },
  {
   "cell_type": "markdown",
   "metadata": {},
   "source": [
    "## OBSERVATION\n",
    "This shows that the starting and ending latitude are within same location. Members most likely didn't travel long distances with the bike."
   ]
  },
  {
   "cell_type": "markdown",
   "metadata": {},
   "source": [
    "## QUESTION\n",
    "What is the distribution of the bike id?"
   ]
  },
  {
   "cell_type": "markdown",
   "metadata": {},
   "source": [
    "## CODE"
   ]
  },
  {
   "cell_type": "code",
   "execution_count": 21,
   "metadata": {},
   "outputs": [
    {
     "data": {
      "text/plain": [
       "Text(0.5,0,'bike_id')"
      ]
     },
     "execution_count": 21,
     "metadata": {},
     "output_type": "execute_result"
    },
    {
     "data": {
      "image/png": "[encoded data removed]",
      "text/plain": [
       "<matplotlib.figure.Figure at 0x7f42554d0ef0>"
      ]
     },
     "metadata": {
      "needs_background": "light"
     },
     "output_type": "display_data"
    }
   ],
   "source": [
    "## plotting\n",
    "bikeshare1.hist(column='bike_id')\n",
    "plt.title('distribution of the bike_id')\n",
    "plt.ylabel('counts')\n",
    "plt.xlabel('bike_id')"
   ]
  },
  {
   "cell_type": "markdown",
   "metadata": {},
   "source": [
    "## OBSERVATION\n",
    "The distribution of the bike id skewed to the left. This might indicate an intial less number using the bike sharing scheme."
   ]
  },
  {
   "cell_type": "markdown",
   "metadata": {},
   "source": [
    "## QUESTION\n",
    "Which birth_year used bike_sharing the most?"
   ]
  },
  {
   "cell_type": "markdown",
   "metadata": {},
   "source": [
    "## CODE"
   ]
  },
  {
   "cell_type": "code",
   "execution_count": 22,
   "metadata": {},
   "outputs": [
    {
     "data": {
      "text/plain": [
       "Text(0.5,1,'distribution of members birth year')"
      ]
     },
     "execution_count": 22,
     "metadata": {},
     "output_type": "execute_result"
    },
    {
     "data": {
      "image/png": "[encoded data removed]",
      "text/plain": [
       "<matplotlib.figure.Figure at 0x7f42559b5ef0>"
      ]
     },
     "metadata": {
      "needs_background": "light"
     },
     "output_type": "display_data"
    }
   ],
   "source": [
    "## plotting\n",
    "sb.countplot(data=bikeshare1, x='member_birth_year', color=base_color)\n",
    "plt.title('distribution of members birth year') "
   ]
  },
  {
   "cell_type": "markdown",
   "metadata": {},
   "source": [
    "## OBSERVATION\n",
    "The  chart shows that the older age group uses the bike less often than the newer generations."
   ]
  },
  {
   "cell_type": "markdown",
   "metadata": {},
   "source": [
    "### The distribution(s) of variable(s) .\n",
    "\n",
    "There were more subscribers to the bike sharing scheme than there are customers and the proportion of members that used the bike sharing scheme for all trips were not up to half of those that did not use it. Males used the bike more than the female and other genders.\n",
    "The charts also indicates that there was an initial success in the bike sharing scheme and the younger generations utilized the bike sharing scheme more than the older adults.\n",
    "The members  did covered smaller distance with the bike and rarely used it for all trips.\n",
    "\n",
    "\n",
    "### Unusual distributions discovered and operations performed to tidy the data.\n",
    "\n",
    " I calculated the total of null values and dropped columns that might not be used. Most of the variables were skewed to the left"
   ]
  },
  {
   "cell_type": "markdown",
   "metadata": {},
   "source": [
    "## Bivariate Exploration\n"
   ]
  },
  {
   "cell_type": "markdown",
   "metadata": {},
   "source": [
    "## QUESTION\n",
    "What is the relationship between member birth year and duration_sec?"
   ]
  },
  {
   "cell_type": "markdown",
   "metadata": {},
   "source": [
    "## CODE"
   ]
  },
  {
   "cell_type": "code",
   "execution_count": 23,
   "metadata": {},
   "outputs": [
    {
     "data": {
      "image/png": "[encoded data removed]",
      "text/plain": [
       "<matplotlib.figure.Figure at 0x7f4252b6a9b0>"
      ]
     },
     "metadata": {
      "needs_background": "light"
     },
     "output_type": "display_data"
    }
   ],
   "source": [
    "## plotting\n",
    "plt.scatter(data = bikeshare1, x = 'member_birth_year', y = 'duration_sec', alpha = 1)\n",
    "plt.xlabel('member_birth_year')\n",
    "plt.ylabel('duration_sec')\n",
    "plt.title('Relationship between member birth year and duration_sec');"
   ]
  },
  {
   "cell_type": "markdown",
   "metadata": {},
   "source": [
    "## OBSERVATION\n",
    "This indicates that the duration of time spent riding the bike were lower for the older generation than the new generartions. Looking at the chart, there are greater dense areas between 1960 and 2000, showing that this birth_year group uses the bike frequently. Although, the time spent ridin the bike was below 20000. Those born in 1980 through 2000, sparsely rode that bike for a longer duration."
   ]
  },
  {
   "cell_type": "markdown",
   "metadata": {},
   "source": [
    "## QUESTION\n",
    "What is the relationship between these variables?\n",
    "start_station_latitude and end_station_latitude,\n",
    "start_station_longitude and end_station_longitude,\n",
    "start_station_latitude and start_station_longitude,\n",
    "end_station_latitude and end_station_longitude"
   ]
  },
  {
   "cell_type": "markdown",
   "metadata": {},
   "source": [
    "## CODE"
   ]
  },
  {
   "cell_type": "code",
   "execution_count": 24,
   "metadata": {},
   "outputs": [
    {
     "data": {
      "image/png": "[encoded data removed]",
      "text/plain": [
       "<matplotlib.figure.Figure at 0x7f42525eb470>"
      ]
     },
     "metadata": {
      "needs_background": "light"
     },
     "output_type": "display_data"
    },
    {
     "data": {
      "image/png": "[encoded data removed]",
      "text/plain": [
       "<matplotlib.figure.Figure at 0x7f425c1f4668>"
      ]
     },
     "metadata": {
      "needs_background": "light"
     },
     "output_type": "display_data"
    },
    {
     "data": {
      "image/png": "[encoded data removed]",
      "text/plain": [
       "<matplotlib.figure.Figure at 0x7f425c020898>"
      ]
     },
     "metadata": {
      "needs_background": "light"
     },
     "output_type": "display_data"
    },
    {
     "data": {
      "image/png": "[encoded data removed]",
      "text/plain": [
       "<matplotlib.figure.Figure at 0x7f425c0ba240>"
      ]
     },
     "metadata": {
      "needs_background": "light"
     },
     "output_type": "display_data"
    }
   ],
   "source": [
    "## setting my figsize\n",
    "plt.figure(figsize = [20, 5])\n",
    "## subplot one\n",
    "plt.subplot(1,4,1)\n",
    "plt.scatter(data = bikeshare1, x = 'start_station_latitude', y = 'end_station_latitude', alpha = 1)\n",
    "plt.xlabel('start_station_latitude')\n",
    "plt.ylabel('end_station_latitude')\n",
    "plt.title('Relationship between start_station_latitude and end_station_latitude ')\n",
    "plt.show()\n",
    "## subplot two\n",
    "plt.subplot(1,4,2)\n",
    "plt.scatter(data = bikeshare1, x = 'start_station_longitude', y = 'end_station_longitude', alpha = 1)\n",
    "plt.xlabel('start_station_longitude')\n",
    "plt.ylabel('end_station_longitude')\n",
    "plt.title('Relationship between start_station_longitude and end_station_longitude')\n",
    "plt.show()\n",
    "## subplot three\n",
    "plt.subplot(1,4,3)\n",
    "plt.scatter(data = bikeshare1, x = 'start_station_latitude', y = 'start_station_longitude', alpha = 1)\n",
    "plt.xlabel('start_station_latitude')\n",
    "plt.ylabel('start_station_longitude')\n",
    "plt.title('Relationship between start_station_latitude and start_station_longitude')\n",
    "plt.show()\n",
    "## subplot four\n",
    "plt.subplot(1,4,4)\n",
    "plt.scatter(data = bikeshare1, x = 'end_station_latitude', y = 'end_station_longitude', alpha = 1)\n",
    "plt.xlabel('end_station_latitude')\n",
    "plt.ylabel('end_station_longitude')\n",
    "plt.title('Relationship between end_station_latitude and end_station_longitude  ')\n",
    "plt.show()\n",
    "\n"
   ]
  },
  {
   "cell_type": "markdown",
   "metadata": {},
   "source": [
    "## OBSERVATION\n",
    "This shows that the distances covered by the members of the bike sharing scheme were not long and tend to be close. In otherwords, the distances between the start point and end end point are close."
   ]
  },
  {
   "cell_type": "markdown",
   "metadata": {},
   "source": [
    "## QUESTION\n",
    "What are the relationship between the following?\n",
    "start_station_latitude and duration_sec,\n",
    "end_station_latitude and duration_sec."
   ]
  },
  {
   "cell_type": "markdown",
   "metadata": {},
   "source": [
    "## CODE"
   ]
  },
  {
   "cell_type": "code",
   "execution_count": 25,
   "metadata": {},
   "outputs": [
    {
     "data": {
      "image/png": "[encoded data removed]",
      "text/plain": [
       "<matplotlib.figure.Figure at 0x7f425bf9d0b8>"
      ]
     },
     "metadata": {
      "needs_background": "light"
     },
     "output_type": "display_data"
    }
   ],
   "source": [
    "## setting my figsize\n",
    "plt.figure(figsize = [20, 5])\n",
    "## subplot one\n",
    "plt.subplot(1,2,1)\n",
    "plt.scatter(data = bikeshare1, x = 'start_station_latitude', y = 'duration_sec', alpha = 1)\n",
    "plt.xlabel('start_station_latitude')\n",
    "plt.ylabel('duration_sec')\n",
    "plt.title('Relationship between start_station_latitude and duration_sec');\n",
    "## subplot two\n",
    "plt.subplot(1,2,2)\n",
    "plt.scatter(data = bikeshare1, x = 'end_station_latitude', y = 'duration_sec', alpha = 1)\n",
    "plt.xlabel('end_station_latitude')\n",
    "plt.ylabel('duration_sec')\n",
    "plt.title('Relationship between end_station_latitude and duration_sec');"
   ]
  },
  {
   "cell_type": "markdown",
   "metadata": {},
   "source": [
    "## OBSERVATION\n",
    "This shows that members of the bike sharing scheme started and ended their trip at similar location. "
   ]
  },
  {
   "cell_type": "markdown",
   "metadata": {},
   "source": [
    "## QUESTION\n",
    "What is the relationship between user_type and member_gender?"
   ]
  },
  {
   "cell_type": "markdown",
   "metadata": {},
   "source": [
    "## CODE"
   ]
  },
  {
   "cell_type": "code",
   "execution_count": 26,
   "metadata": {},
   "outputs": [
    {
     "data": {
      "image/png": "[encoded data removed]",
      "text/plain": [
       "<matplotlib.figure.Figure at 0x7f425bf75c18>"
      ]
     },
     "metadata": {
      "needs_background": "light"
     },
     "output_type": "display_data"
    }
   ],
   "source": [
    "## plotting\n",
    "sb.countplot(data = bikeshare1, x = 'user_type', hue = 'member_gender')\n",
    "plt.title('Relationship between user_type and member_gender')\n",
    "plt.xticks(rotation = 15);"
   ]
  },
  {
   "cell_type": "markdown",
   "metadata": {},
   "source": [
    "## OBSERVATION\n",
    "The bar chart indicates that for both customers and subscribers, males were greater than female and other genders represents the least of the population."
   ]
  },
  {
   "cell_type": "markdown",
   "metadata": {},
   "source": [
    "## QUESTION\n",
    "What is the relationship between user_type and bike_share_for_all_trips?"
   ]
  },
  {
   "cell_type": "markdown",
   "metadata": {},
   "source": [
    "## CODE"
   ]
  },
  {
   "cell_type": "code",
   "execution_count": 27,
   "metadata": {},
   "outputs": [
    {
     "data": {
      "image/png": "[encoded data removed]",
      "text/plain": [
       "<matplotlib.figure.Figure at 0x7f425c051a90>"
      ]
     },
     "metadata": {
      "needs_background": "light"
     },
     "output_type": "display_data"
    }
   ],
   "source": [
    "## plotting\n",
    "sb.countplot(data = bikeshare1, x = 'user_type', hue = 'bike_share_for_all_trip')\n",
    "plt.title('Relationship between user_type and bike_share_for_all_trips')\n",
    "plt.xticks(rotation = 15);"
   ]
  },
  {
   "cell_type": "markdown",
   "metadata": {},
   "source": [
    "## OBSERVATION\n",
    "This shows that all the customers of the bike sharing scheme did not use the bike for all their trips, while subcribers about 15000 did use bike for all their trip. "
   ]
  },
  {
   "cell_type": "markdown",
   "metadata": {},
   "source": [
    "## QUESTION\n",
    "What is the relationship between member_gender and bike_share_for_all_trips?"
   ]
  },
  {
   "cell_type": "markdown",
   "metadata": {},
   "source": [
    "## CODE"
   ]
  },
  {
   "cell_type": "code",
   "execution_count": 28,
   "metadata": {},
   "outputs": [
    {
     "data": {
      "image/png": "[encoded data removed]",
      "text/plain": [
       "<matplotlib.figure.Figure at 0x7f422686e3c8>"
      ]
     },
     "metadata": {
      "needs_background": "light"
     },
     "output_type": "display_data"
    }
   ],
   "source": [
    "## plotting\n",
    "sb.countplot(data = bikeshare1, x = 'member_gender', hue = 'bike_share_for_all_trip')\n",
    "plt.title('Relationship between member_gender and bike_share_for_all_trips')\n",
    "plt.xticks(rotation = 15);"
   ]
  },
  {
   "cell_type": "markdown",
   "metadata": {},
   "source": [
    "## OBSERVATION\n",
    "The chart depicts that more males used bikes for all trips than females."
   ]
  },
  {
   "cell_type": "markdown",
   "metadata": {},
   "source": [
    "### Relationships observed in this part of the investigation. How did the feature(s) of interest vary with other features in the dataset.\n",
    "\n",
    "This exploratory analysis shows that the total members were more of males and most of them were subcribers to the scheme. Although, most of them did not use the bike in the sharing scheme for all their trips, they all covered a smilar distances with the bike.Those of younger age group spent more time(in seconds) riding the bike than those of older generation.\n",
    "\n",
    "### Some interesting relationships between the other features.\n",
    "\n",
    "I observed that the differences between the starting latitude and ending latitude were not much. This shows that most of the riders were located in similar locations and travelled to same locations."
   ]
  },
  {
   "cell_type": "markdown",
   "metadata": {},
   "source": [
    "## Multivariate Exploration"
   ]
  },
  {
   "cell_type": "markdown",
   "metadata": {},
   "source": [
    "## QUESTION\n",
    "What is the relationship between member_gender, member_birth_year and duration_sec?"
   ]
  },
  {
   "cell_type": "markdown",
   "metadata": {},
   "source": [
    "## CODE"
   ]
  },
  {
   "cell_type": "code",
   "execution_count": 29,
   "metadata": {},
   "outputs": [
    {
     "data": {
      "text/plain": [
       "Text(0.5,1,'Relationship between member_gender, member_birth_year and duration_sec')"
      ]
     },
     "execution_count": 29,
     "metadata": {},
     "output_type": "execute_result"
    },
    {
     "data": {
      "image/png": "[encoded data removed]",
      "text/plain": [
       "<matplotlib.figure.Figure at 0x7f425bdbbf98>"
      ]
     },
     "metadata": {
      "needs_background": "light"
     },
     "output_type": "display_data"
    }
   ],
   "source": [
    "## plotting\n",
    "sb.lmplot(x='member_birth_year', y='duration_sec', hue='member_gender', data = bikeshare1, fit_reg=False)\n",
    "plt.title('Relationship between member_gender, member_birth_year and duration_sec')"
   ]
  },
  {
   "cell_type": "markdown",
   "metadata": {},
   "source": [
    "## OBSERVATION\n",
    "\n",
    "There are 3 points for male, 3 points for female and one point for others noticed at the top of the duration_sec and just 1 point for female seen at the right corner. This shows that the proprtion of male and female that used the bike for a longer duration were equal, while only a few others rode the bike for that same duration. Interestingly, this chart shows that only one female born in the 1880's used the bike, despite the duration of its use being about 1000secs."
   ]
  },
  {
   "cell_type": "markdown",
   "metadata": {},
   "source": [
    "## QUESTION\n",
    "What is the relationship between user_type, member_birth_year and duration_sec?"
   ]
  },
  {
   "cell_type": "markdown",
   "metadata": {},
   "source": [
    "## CODE"
   ]
  },
  {
   "cell_type": "code",
   "execution_count": 32,
   "metadata": {},
   "outputs": [
    {
     "data": {
      "text/plain": [
       "Text(0.5,1,'Relationship between user_type, member_birth_year and duration_sec')"
      ]
     },
     "execution_count": 32,
     "metadata": {},
     "output_type": "execute_result"
    },
    {
     "data": {
      "image/png": "[encoded data removed]",
      "text/plain": [
       "<matplotlib.figure.Figure at 0x7f425b641a20>"
      ]
     },
     "metadata": {
      "needs_background": "light"
     },
     "output_type": "display_data"
    }
   ],
   "source": [
    "## Using .loc() method to select the years to plot\n",
    "c = bikeshare1.loc[bikeshare1['member_birth_year'].isin(['1878', '1980', '1984', '1987', '1992', '2001'])]\n",
    "## plotting\n",
    "sb.violinplot(x = 'member_birth_year', y = 'duration_sec', hue = 'user_type', data = c)\n",
    "plt.title('Relationship between user_type, member_birth_year and duration_sec')"
   ]
  },
  {
   "cell_type": "markdown",
   "metadata": {},
   "source": [
    "## OBSERVATION\n",
    "\n",
    "This chart depicts that the time spent riding the bike were approximately similar for members born from 1878 to 1992. Those members born in 2001 rarely used the bike for a longer duaration.\n",
    "In general, subscribers to the bike sharing scheme rode on the bike more often than the customers."
   ]
  },
  {
   "cell_type": "markdown",
   "metadata": {},
   "source": [
    "## QUESTION\n",
    "\n",
    "What is the relationship between member gender, user type and duration_sec?"
   ]
  },
  {
   "cell_type": "markdown",
   "metadata": {},
   "source": [
    "## CODE"
   ]
  },
  {
   "cell_type": "code",
   "execution_count": 33,
   "metadata": {},
   "outputs": [
    {
     "data": {
      "text/plain": [
       "Text(0.5,1,'Relationship between member gender, user type and duration_sec')"
      ]
     },
     "execution_count": 33,
     "metadata": {},
     "output_type": "execute_result"
    },
    {
     "data": {
      "image/png": "[encoded data removed]",
      "text/plain": [
       "<matplotlib.figure.Figure at 0x7f425b5f4588>"
      ]
     },
     "metadata": {
      "needs_background": "light"
     },
     "output_type": "display_data"
    }
   ],
   "source": [
    "## plotting\n",
    "sb.barplot(data = bikeshare1, x = 'member_gender', y = 'duration_sec', hue = 'user_type')\n",
    "plt.title('Relationship between member gender, user type and duration_sec')"
   ]
  },
  {
   "cell_type": "markdown",
   "metadata": {},
   "source": [
    "## OBSERVATION\n",
    "This chart depicts that customers who fall under other gender used the bike for a longer duration, while the male customers travelled the least distance. This pattern is same for those who subscribed to the scheme."
   ]
  },
  {
   "cell_type": "markdown",
   "metadata": {},
   "source": [
    "### Relationships observed in this part of the investigation.\n",
    "\n",
    "This part of exploration help strengthen the patterns seen during the bivariant and univariant visualization. Looking at the charts above, it can be clearly seen that the total of male and female that rode on the bike used for the scheme for a greater duration of time were almost similar. I also noticed that the total number of subscibers and customers that rode the bike that were born in 2001, only used the bike for a shorter duration of time.\n",
    "### Surprising interactions between features.\n",
    "\n",
    "Interestingly, just one member(a female) born in the 1880's rode the bike for some seconds during the bike sharing scheme. The chart depicts that customers and subcribers who fall under other gender used the bike for a longer duration, which contrast that of the male and female."
   ]
  },
  {
   "cell_type": "markdown",
   "metadata": {},
   "source": [
    "## Conclusions\n",
    "This is my third Udacity project, where I dowloaded a  bike share dataset, performed a little wrangling, since this was a cleaned dataset. Afterwards, I performed exploratory analysis on the dataset to answer some questions. Below are my main findings.\n",
    "This analysis shows that during the bike sharing scheme in greater San Francisco Bay area, subcribers to the scheme used the bike for all their trips, most of which were males and  were born between 1990's and 2001. Males and females members of the scheme tend to use the bike for a longer duration of time than the other genders. Also, customers who fall under other gender used the bike for a longer duration. The locations traveled with the bike revolves round similar region, which proves that this scheme actually took place in a particular region.\n",
    "The exploration also depicts that there was an intial success to the scheme, which continued over time. \n",
    "\n",
    "Bike sharing scheme was good adventure as this analysis proves it and need to continue. "
   ]
  },
  {
   "cell_type": "code",
   "execution_count": null,
   "metadata": {},
   "outputs": [],
   "source": []
  }
 ],
 "metadata": {
  "kernelspec": {
   "display_name": "Python 3",
   "language": "python",
   "name": "python3"
  },
  "language_info": {
   "codemirror_mode": {
    "name": "ipython",
    "version": 3
   },
   "file_extension": ".py",
   "mimetype": "text/x-python",
   "name": "python",
   "nbconvert_exporter": "python",
   "pygments_lexer": "ipython3",
   "version": "3.6.3"
  }
 },
 "nbformat": 4,
 "nbformat_minor": 2
}
